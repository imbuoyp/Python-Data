{
  "nbformat": 4,
  "nbformat_minor": 0,
  "metadata": {
    "colab": {
      "name": "12-02",
      "provenance": [],
      "collapsed_sections": [],
      "authorship_tag": "ABX9TyNVOgRgxTQFN7wdlxvhmDeI",
      "include_colab_link": true
    },
    "kernelspec": {
      "name": "python3",
      "display_name": "Python 3"
    }
  },
  "cells": [
    {
      "cell_type": "markdown",
      "metadata": {
        "id": "view-in-github",
        "colab_type": "text"
      },
      "source": [
        "<a href=\"https://colab.research.google.com/github/imbuoyp/Python-Data/blob/main/12_02.ipynb\" target=\"_parent\"><img src=\"https://colab.research.google.com/assets/colab-badge.svg\" alt=\"Open In Colab\"/></a>"
      ]
    },
    {
      "cell_type": "code",
      "metadata": {
        "id": "LmntYzUX8CQK"
      },
      "source": [
        "from tensorflow.keras.datasets import fashion_mnist\n",
        "import matplotlib.pyplot as plt\n",
        "import numpy as np"
      ],
      "execution_count": 58,
      "outputs": []
    },
    {
      "cell_type": "code",
      "metadata": {
        "colab": {
          "base_uri": "https://localhost:8080/"
        },
        "id": "M9vGGOEKLLEq",
        "outputId": "18b27a41-8dc3-4f31-8852-8e4f0876a7c1"
      },
      "source": [
        "(train_images, train_labels), (test_images, test_labels) = fashion_mnist.load_data()"
      ],
      "execution_count": 17,
      "outputs": [
        {
          "output_type": "stream",
          "text": [
            "Downloading data from https://storage.googleapis.com/tensorflow/tf-keras-datasets/train-labels-idx1-ubyte.gz\n",
            "32768/29515 [=================================] - 0s 0us/step\n",
            "Downloading data from https://storage.googleapis.com/tensorflow/tf-keras-datasets/train-images-idx3-ubyte.gz\n",
            "26427392/26421880 [==============================] - 0s 0us/step\n",
            "Downloading data from https://storage.googleapis.com/tensorflow/tf-keras-datasets/t10k-labels-idx1-ubyte.gz\n",
            "8192/5148 [===============================================] - 0s 0us/step\n",
            "Downloading data from https://storage.googleapis.com/tensorflow/tf-keras-datasets/t10k-images-idx3-ubyte.gz\n",
            "4423680/4422102 [==============================] - 0s 0us/step\n"
          ],
          "name": "stdout"
        }
      ]
    },
    {
      "cell_type": "code",
      "metadata": {
        "colab": {
          "base_uri": "https://localhost:8080/"
        },
        "id": "Nb2cbIJX9iwk",
        "outputId": "6f9d02f8-58fe-42af-9243-9a3cb4250fd3"
      },
      "source": [
        "print(train_images.shape)\n",
        "print(train_labels.shape)"
      ],
      "execution_count": 18,
      "outputs": [
        {
          "output_type": "stream",
          "text": [
            "(60000, 28, 28)\n",
            "(60000,)\n"
          ],
          "name": "stdout"
        }
      ]
    },
    {
      "cell_type": "code",
      "metadata": {
        "colab": {
          "base_uri": "https://localhost:8080/"
        },
        "id": "pAc61iEO_yTi",
        "outputId": "f4ba46be-dcb0-4e03-badc-5b30f0761e5b"
      },
      "source": [
        "print(test_images.shape)\n",
        "print(test_labels.shape)"
      ],
      "execution_count": 19,
      "outputs": [
        {
          "output_type": "stream",
          "text": [
            "(10000, 28, 28)\n",
            "(10000,)\n"
          ],
          "name": "stdout"
        }
      ]
    },
    {
      "cell_type": "code",
      "metadata": {
        "colab": {
          "base_uri": "https://localhost:8080/"
        },
        "id": "teLNBtekAFl6",
        "outputId": "10e3e4e5-94f1-4798-fad7-d0b3269fd11f"
      },
      "source": [
        "print(train_labels[0])"
      ],
      "execution_count": 20,
      "outputs": [
        {
          "output_type": "stream",
          "text": [
            "9\n"
          ],
          "name": "stdout"
        }
      ]
    },
    {
      "cell_type": "code",
      "metadata": {
        "id": "kZgEdkhKAIEb"
      },
      "source": [
        "#train_labels"
      ],
      "execution_count": null,
      "outputs": []
    },
    {
      "cell_type": "code",
      "metadata": {
        "id": "IBqIRClsA3Ol"
      },
      "source": [
        "class_names = ['T-shirt/top', 'Trouser', 'Pullover', 'Dress', 'Coat',\n",
        "               'Sandal', 'Shirt', 'Sneaker', 'Bag', 'Ankle boot']"
      ],
      "execution_count": 25,
      "outputs": []
    },
    {
      "cell_type": "code",
      "metadata": {
        "colab": {
          "base_uri": "https://localhost:8080/",
          "height": 35
        },
        "id": "ZpjfhUncA8Tj",
        "outputId": "eb4bbec9-ae58-450f-a2b0-5ef6a075d316"
      },
      "source": [
        "class_names[train_labels[0]]"
      ],
      "execution_count": 24,
      "outputs": [
        {
          "output_type": "execute_result",
          "data": {
            "application/vnd.google.colaboratory.intrinsic+json": {
              "type": "string"
            },
            "text/plain": [
              "'Ankle boot'"
            ]
          },
          "metadata": {
            "tags": []
          },
          "execution_count": 24
        }
      ]
    },
    {
      "cell_type": "code",
      "metadata": {
        "colab": {
          "base_uri": "https://localhost:8080/",
          "height": 265
        },
        "id": "3UmVmSbHA_ey",
        "outputId": "6e900ec1-7365-40a6-d241-c8657547fd1d"
      },
      "source": [
        "plt.figure()\n",
        "plt.imshow(train_images[0])\n",
        "plt.colorbar()\n",
        "plt.grid(False)\n",
        "plt.show()"
      ],
      "execution_count": 26,
      "outputs": [
        {
          "output_type": "display_data",
          "data": {
            "image/png": "[encoded data removed]",
            "text/plain": [
              "<Figure size 432x288 with 2 Axes>"
            ]
          },
          "metadata": {
            "tags": [],
            "needs_background": "light"
          }
        }
      ]
    },
    {
      "cell_type": "code",
      "metadata": {
        "id": "fYY4iH2MCajV"
      },
      "source": [
        "#2차원을 1차원으로 변경하려면 reshape으로 해야 인풋으로 들어갈 수 있다 "
      ],
      "execution_count": null,
      "outputs": []
    },
    {
      "cell_type": "code",
      "metadata": {
        "id": "i1edUTfgBLm2"
      },
      "source": [
        "train_images = train_images.reshape((60000, 28*28))\n",
        "test_images = test_images.reshape(10000, 28*28)"
      ],
      "execution_count": 27,
      "outputs": []
    },
    {
      "cell_type": "code",
      "metadata": {
        "id": "HX69-63ICpqb"
      },
      "source": [
        "#sequential : 딥러닝의 층 구조를 쌓을 수 있는 함수 Dense함수 : 레이어스 안에 있고, 조밀하게 모여 이쓴ㄴ 집함. "
      ],
      "execution_count": 9,
      "outputs": []
    },
    {
      "cell_type": "code",
      "metadata": {
        "id": "eMJZ-o_VC8gK"
      },
      "source": [
        "from tensorflow.keras import models, layers\n"
      ],
      "execution_count": 28,
      "outputs": []
    },
    {
      "cell_type": "markdown",
      "metadata": {
        "id": "1uFMu54RLk7F"
      },
      "source": [
        ""
      ]
    },
    {
      "cell_type": "code",
      "metadata": {
        "id": "5CLIJVLpDK1K"
      },
      "source": [
        "#모델디자인\n",
        "#얼마나 많은 층을 사용할 것이냐는 hidden layer에서 설계하는 것-히든레이어 개수 \n",
        "#각층에 얼마나 많은 유닛(퍼셉트론)을 둘 것이냐-퍼셉트론 개수\n",
        "#문제 유형에 따라 출력층 어떻게 설계하느냐-출력층 설계"
      ],
      "execution_count": 11,
      "outputs": []
    },
    {
      "cell_type": "code",
      "metadata": {
        "id": "FjmxNRakDeVh"
      },
      "source": [
        "#type here 4\n",
        "model = models.Sequential() \n",
        "#층 구조 생성\n",
        "model.add(layers.Dense(units=512, activation='relu', input_shape=(28*28,)))\n",
        "model.add(layers.Dense(units=10, activation='softmax'))\n",
        " # 내부를 구성할 수 있다.\n",
        "#input_shape이 있으면 두개로 생성됨. inputlayer, hiddenlayer 로\n",
        "#unit은 퍼셉트론의 개수 의미, 히든 레이어 안에  퍼셉트론이 512개 배치된다는 의미\n",
        "#히든레이어에 렐루라는 활성화 함수 적용 , 인풋쉐입: 인풋레이어에 몇개를 넣는지 지정 즉 784, \n",
        "#이미지 데이터 한장은 28*28일거고 하나의 데이터 쉐입이 (784,1 )\n",
        "#인풋레이어에 784개 있음\n",
        "\n",
        "#또하나의 레이어가 생성되는데 \n",
        "#layer.dense쓰면 레이어 안에 값을 구축할 수 있게 됨\n",
        "#알고 싶은 값 첫 카테고리~마지막 확률값 알고 싶은것\n",
        "#퍼셉트론 10개배치 \n",
        "#활성화함수 소프트 맥스 다중분류문제때문에 소프트맥스 적용\n",
        "#마지막 레이어가 아웃풋레이어(x1~ x10)가 됨\n",
        "\n",
        "#히든레이어는 대부분 렐루라는 활성화함수를 사용-트렌드에 따라 바뀜\n",
        "#아웃풋레이어만 함수변경됨"
      ],
      "execution_count": 37,
      "outputs": []
    },
    {
      "cell_type": "code",
      "metadata": {
        "colab": {
          "base_uri": "https://localhost:8080/"
        },
        "id": "foiB8Xn8K1os",
        "outputId": "ed22ccdb-94e0-48ac-d79c-9bcd402fe01b"
      },
      "source": [
        "model.summary()"
      ],
      "execution_count": 38,
      "outputs": [
        {
          "output_type": "stream",
          "text": [
            "Model: \"sequential_4\"\n",
            "_________________________________________________________________\n",
            "Layer (type)                 Output Shape              Param #   \n",
            "=================================================================\n",
            "dense_4 (Dense)              (None, 512)               401920    \n",
            "_________________________________________________________________\n",
            "dense_5 (Dense)              (None, 10)                5130      \n",
            "=================================================================\n",
            "Total params: 407,050\n",
            "Trainable params: 407,050\n",
            "Non-trainable params: 0\n",
            "_________________________________________________________________\n"
          ],
          "name": "stdout"
        }
      ]
    },
    {
      "cell_type": "code",
      "metadata": {
        "id": "uckV2hvBF746"
      },
      "source": [
        "\n",
        "#첫행은 i-h 레이어 설명\n",
        "#둘째행은 h-o레이어 설명 \n",
        "#웨이트는 곱하면됨 레이어끼리\n",
        "#덴스는 두번쨰열 혹은 마지막열\n",
        "#input-layer x hidden-layer , h\n",
        "#h x o , o\n",
        "#아웃풋 쉐입 설명\n",
        "#히든레이어 512개 값은 다음 레이어에 인풋으로 사용됨\n",
        "#두번째 레이어도 아웃풋레이어까지 학습하고 얻는 결과는 퍼셉트론 10개니 10개일거다"
      ],
      "execution_count": 66,
      "outputs": []
    },
    {
      "cell_type": "code",
      "metadata": {
        "id": "McWjkDHiIaVJ"
      },
      "source": [
        "#학습정보 설정\n",
        "#옵티마이저: 오차역전파법 기법 있음\n",
        "#경사하강법이라는 함수가 있는데 \n",
        "#로스 : (손실함수에서)어떤함수 쓸건지 \n",
        "#메트릭스:\n",
        "\n",
        "#예측한 값을y햇이라고 함.\n",
        "#인풋텐서에 대한 y값은 알고 잇음\n",
        "#오차: y햇 y(결과값)의 오차를 계산해주는 손실함수를 통해 계산)loss function\n",
        "#오차의w,b찾기위해 하는거\n",
        "#오차를 가지고 적절한 w,b를 업데이트해서 아웃풋레이어에 \n",
        "#또 w,b구해서 hidden레이어에 \n",
        "#또 x로  업데이트 해나가다보면 "
      ],
      "execution_count": 65,
      "outputs": []
    },
    {
      "cell_type": "code",
      "metadata": {
        "id": "MmLGUROZKChR"
      },
      "source": [
        "model.compile(optimizer='rmsprop', #함수의 이름\n",
        "              loss='sparse_categorical_crossentropy', #함수의 이름\n",
        "              metrics=['accuracy']) #정확도 측면에서 평가하겠다\n",
        "              #accuracy리스트를 사용한 의미는 성능지표를 여러개 넣을 수 있다."
      ],
      "execution_count": 40,
      "outputs": []
    },
    {
      "cell_type": "markdown",
      "metadata": {
        "id": "ZsaIJC_yQQzU"
      },
      "source": [
        ""
      ]
    },
    {
      "cell_type": "code",
      "metadata": {
        "id": "BjHjNj9uMMF8"
      },
      "source": [
        "#model.fit (케라스 함수)\n",
        "#을 통해 \n",
        "#트레인 데이터 셋만 넣어줘야한다.\n",
        "#x=인풋에 사용할 \n",
        "#y값은 train데이터에 대한 라벨값 지정\n",
        "#epochs 임의의 값이 들어가 있다. 웨이트 바이어스 지정된 상태에서 오차를 옵티마이저 함수 넣어서 그 결과를 다음 웨이트 바이어스\n",
        "#한번 돈걸 1 epochs라고 함.\n",
        "#에포크epochs는 개인이 지정\n",
        "\n",
        "#batch_size = 128 \n",
        "#인풋데이터(샘플의개수) 6만개있음 한번에 흘려보내면 다운됨\n",
        "#쪼개서 보내야함. \n",
        "#6만개 샘플 수를 128개 먼저 학습시킨다는 뜻\n",
        "\n",
        "#validation_split #20%따로 떼서 벨리데이션으로 따로 뗴겠다는 의미 \n",
        "#0.2 training: 학습, test는 검증, 학습도중에 test가능함\n",
        "#training set과 validation으로 나눔\n",
        "#인풋텐서 흘려서 오차 계산 후 옵티마이저 가는 것.\n",
        "#1번 에폭 끝났을때 트레이닝데이터만 쓰고\n",
        "#업데이트 된 값 고정시키고 벨리데이션 값 흘려보내면 오차가 얼마나 되는지\n",
        "#정확도가 어떻게 되는지 측정하면 모델을 비교할 수 있다.\n",
        "#하나의 에폭 끝날떄마다 training set을 training, validation으로 나누는 작업해야함\n"
      ],
      "execution_count": 67,
      "outputs": []
    },
    {
      "cell_type": "code",
      "metadata": {
        "colab": {
          "base_uri": "https://localhost:8080/"
        },
        "id": "q7_CEJ44SKAP",
        "outputId": "3aa93aa8-d0da-4200-cf69-2bd0c11c4219"
      },
      "source": [
        "#type 7\n",
        "history = model.fit(x=train_images, y=train_labels,\n",
        "                  epochs=30,\n",
        "                  batch_size=128,\n",
        "                  validation_split=0.2)\n",
        "#q.모델핏을 써야된다는걸 어떻게 아는지\n",
        "#q.벨리데이션 스플릿은 무조건 트레이닝셋 사용할떄 나눠야하는건지 궁금."
      ],
      "execution_count": 42,
      "outputs": [
        {
          "output_type": "stream",
          "text": [
            "Epoch 1/30\n",
            "375/375 [==============================] - 4s 11ms/step - loss: 16.1182 - accuracy: 0.7171 - val_loss: 0.7906 - val_accuracy: 0.7857\n",
            "Epoch 2/30\n",
            "375/375 [==============================] - 4s 10ms/step - loss: 0.7699 - accuracy: 0.8024 - val_loss: 0.6329 - val_accuracy: 0.8237\n",
            "Epoch 3/30\n",
            "375/375 [==============================] - 4s 10ms/step - loss: 0.6329 - accuracy: 0.8271 - val_loss: 0.5788 - val_accuracy: 0.8416\n",
            "Epoch 4/30\n",
            "375/375 [==============================] - 4s 10ms/step - loss: 0.5718 - accuracy: 0.8395 - val_loss: 0.6306 - val_accuracy: 0.8356\n",
            "Epoch 5/30\n",
            "375/375 [==============================] - 4s 10ms/step - loss: 0.5852 - accuracy: 0.8442 - val_loss: 0.5786 - val_accuracy: 0.8452\n",
            "Epoch 6/30\n",
            "375/375 [==============================] - 4s 10ms/step - loss: 0.5399 - accuracy: 0.8496 - val_loss: 0.5816 - val_accuracy: 0.8514\n",
            "Epoch 7/30\n",
            "375/375 [==============================] - 4s 10ms/step - loss: 0.5102 - accuracy: 0.8525 - val_loss: 0.6232 - val_accuracy: 0.8503\n",
            "Epoch 8/30\n",
            "375/375 [==============================] - 4s 10ms/step - loss: 0.5132 - accuracy: 0.8549 - val_loss: 0.5927 - val_accuracy: 0.8566\n",
            "Epoch 9/30\n",
            "375/375 [==============================] - 4s 10ms/step - loss: 0.5081 - accuracy: 0.8602 - val_loss: 0.6977 - val_accuracy: 0.8499\n",
            "Epoch 10/30\n",
            "375/375 [==============================] - 4s 10ms/step - loss: 0.4987 - accuracy: 0.8630 - val_loss: 0.6707 - val_accuracy: 0.8468\n",
            "Epoch 11/30\n",
            "375/375 [==============================] - 4s 10ms/step - loss: 0.4810 - accuracy: 0.8644 - val_loss: 0.7064 - val_accuracy: 0.8412\n",
            "Epoch 12/30\n",
            "375/375 [==============================] - 4s 10ms/step - loss: 0.4915 - accuracy: 0.8653 - val_loss: 0.6901 - val_accuracy: 0.8574\n",
            "Epoch 13/30\n",
            "375/375 [==============================] - 4s 10ms/step - loss: 0.4676 - accuracy: 0.8686 - val_loss: 0.8240 - val_accuracy: 0.8394\n",
            "Epoch 14/30\n",
            "375/375 [==============================] - 4s 10ms/step - loss: 0.4829 - accuracy: 0.8689 - val_loss: 0.8852 - val_accuracy: 0.8466\n",
            "Epoch 15/30\n",
            "375/375 [==============================] - 4s 10ms/step - loss: 0.4491 - accuracy: 0.8725 - val_loss: 0.7781 - val_accuracy: 0.8554\n",
            "Epoch 16/30\n",
            "375/375 [==============================] - 4s 10ms/step - loss: 0.4603 - accuracy: 0.8741 - val_loss: 0.7631 - val_accuracy: 0.8485\n",
            "Epoch 17/30\n",
            "375/375 [==============================] - 4s 10ms/step - loss: 0.4512 - accuracy: 0.8752 - val_loss: 0.8345 - val_accuracy: 0.8531\n",
            "Epoch 18/30\n",
            "375/375 [==============================] - 4s 10ms/step - loss: 0.4721 - accuracy: 0.8746 - val_loss: 0.7298 - val_accuracy: 0.8656\n",
            "Epoch 19/30\n",
            "375/375 [==============================] - 4s 10ms/step - loss: 0.4671 - accuracy: 0.8780 - val_loss: 0.8657 - val_accuracy: 0.8603\n",
            "Epoch 20/30\n",
            "375/375 [==============================] - 4s 10ms/step - loss: 0.4484 - accuracy: 0.8790 - val_loss: 0.9351 - val_accuracy: 0.8558\n",
            "Epoch 21/30\n",
            "375/375 [==============================] - 4s 10ms/step - loss: 0.4337 - accuracy: 0.8809 - val_loss: 0.8213 - val_accuracy: 0.8604\n",
            "Epoch 22/30\n",
            "375/375 [==============================] - 3s 9ms/step - loss: 0.4457 - accuracy: 0.8808 - val_loss: 0.8965 - val_accuracy: 0.8588\n",
            "Epoch 23/30\n",
            "375/375 [==============================] - 3s 9ms/step - loss: 0.4235 - accuracy: 0.8806 - val_loss: 1.0840 - val_accuracy: 0.8503\n",
            "Epoch 24/30\n",
            "375/375 [==============================] - 3s 9ms/step - loss: 0.4290 - accuracy: 0.8828 - val_loss: 0.9513 - val_accuracy: 0.8630\n",
            "Epoch 25/30\n",
            "375/375 [==============================] - 3s 9ms/step - loss: 0.4250 - accuracy: 0.8837 - val_loss: 0.9347 - val_accuracy: 0.8500\n",
            "Epoch 26/30\n",
            "375/375 [==============================] - 4s 9ms/step - loss: 0.4300 - accuracy: 0.8859 - val_loss: 0.9446 - val_accuracy: 0.8482\n",
            "Epoch 27/30\n",
            "375/375 [==============================] - 3s 9ms/step - loss: 0.4269 - accuracy: 0.8847 - val_loss: 1.0332 - val_accuracy: 0.8588\n",
            "Epoch 28/30\n",
            "375/375 [==============================] - 3s 9ms/step - loss: 0.4134 - accuracy: 0.8872 - val_loss: 0.9578 - val_accuracy: 0.8590\n",
            "Epoch 29/30\n",
            "375/375 [==============================] - 3s 9ms/step - loss: 0.4114 - accuracy: 0.8865 - val_loss: 0.9915 - val_accuracy: 0.8581\n",
            "Epoch 30/30\n",
            "375/375 [==============================] - 3s 9ms/step - loss: 0.3875 - accuracy: 0.8884 - val_loss: 1.0272 - val_accuracy: 0.8593\n"
          ],
          "name": "stdout"
        }
      ]
    },
    {
      "cell_type": "code",
      "metadata": {
        "id": "rkUVvYpGTGPJ"
      },
      "source": [
        "#loss 적을수록 좋다 오차가 줄어드니까, 지속적으로 줄어드는지 확인\n",
        "#step 6 시각화\n",
        "\n",
        "#acc = histroy.histroy#(객체이름)['accuracy']\n",
        "acc = history.history['accuracy']\n",
        "val_acc = history.history['val_accuracy']\n",
        "\n",
        "loss = history.history['loss']\n",
        "val_loss = history.history['val_loss']\n"
      ],
      "execution_count": 43,
      "outputs": []
    },
    {
      "cell_type": "code",
      "metadata": {
        "colab": {
          "base_uri": "https://localhost:8080/",
          "height": 281
        },
        "id": "SE7hpoLZp6el",
        "outputId": "48e532ec-8306-46ca-cd2e-e3d903f60559"
      },
      "source": [
        "epochs = range(len(acc))\n",
        "\n",
        "plt.plot(epochs, acc, 'bo', label='Training acc')\n",
        "plt.plot(epochs, val_acc, 'b', label='Validation acc')\n",
        "plt.title('Training and validation accuracy')\n",
        "plt.legend()\n",
        "\n",
        "plt.show()"
      ],
      "execution_count": 44,
      "outputs": [
        {
          "output_type": "display_data",
          "data": {
            "image/png": "[encoded data removed]",
            "text/plain": [
              "<Figure size 432x288 with 1 Axes>"
            ]
          },
          "metadata": {
            "tags": [],
            "needs_background": "light"
          }
        }
      ]
    },
    {
      "cell_type": "code",
      "metadata": {
        "colab": {
          "base_uri": "https://localhost:8080/",
          "height": 281
        },
        "id": "YRr5uRAzp8t9",
        "outputId": "91bf421d-faa7-4b01-f20c-ca599aac6d08"
      },
      "source": [
        "plt.plot(epochs, loss, 'bo', label='Training loss')\n",
        "plt.plot(epochs, val_loss, 'b', label='Validation loss')\n",
        "plt.title('Training and validation loss')\n",
        "plt.ylim(0,2)\n",
        "plt.legend()\n",
        "\n",
        "plt.show()\n",
        "#로스율 주는게 맞고\n",
        "#벨리데이션 로스값 0 에폭지나자 마자 오히려 증가\n",
        "#오버핏이 존재하는 케이스-오버핏이잇어서 좋은 모델이 아니다 "
      ],
      "execution_count": 47,
      "outputs": [
        {
          "output_type": "display_data",
          "data": {
            "image/png": "[encoded data removed]",
            "text/plain": [
              "<Figure size 432x288 with 1 Axes>"
            ]
          },
          "metadata": {
            "tags": [],
            "needs_background": "light"
          }
        }
      ]
    },
    {
      "cell_type": "code",
      "metadata": {
        "colab": {
          "base_uri": "https://localhost:8080/"
        },
        "id": "Cuk4BJlCrBF5",
        "outputId": "dbec64c5-80d3-47f3-bd00-be4c65f89e40"
      },
      "source": [
        "#model.evaluate()\n",
        "#웨이트와 바이어스 값 변경이 일어나지 않는다. \n",
        "tess_lose, test_acc = model.evaluate(x=test_images, y=test_labels)\n",
        "#모델 성능평가가능함."
      ],
      "execution_count": 49,
      "outputs": [
        {
          "output_type": "stream",
          "text": [
            "313/313 [==============================] - 1s 2ms/step - loss: 1.0319 - accuracy: 0.8510\n"
          ],
          "name": "stdout"
        }
      ]
    },
    {
      "cell_type": "code",
      "metadata": {
        "colab": {
          "base_uri": "https://localhost:8080/"
        },
        "id": "vQ0M8p3UsNRm",
        "outputId": "46e40bba-3369-4a29-c0a8-66d42b8a858b"
      },
      "source": [
        "#학습된 모델 이용 특정데이터예측-model.predict()\n",
        "predict = model.predict(test_images[10].reshape((1, 28*28)))\n",
        "predict\n",
        "#(60000,784)이기 떄문에 리쉐이프를 한다고"
      ],
      "execution_count": 52,
      "outputs": [
        {
          "output_type": "execute_result",
          "data": {
            "text/plain": [
              "array([[1.9650178e-13, 3.4663679e-09, 1.2989528e-01, 7.1526088e-15,\n",
              "        8.6793166e-01, 0.0000000e+00, 2.1730617e-03, 0.0000000e+00,\n",
              "        2.4745598e-11, 0.0000000e+00]], dtype=float32)"
            ]
          },
          "metadata": {
            "tags": []
          },
          "execution_count": 52
        }
      ]
    },
    {
      "cell_type": "code",
      "metadata": {
        "colab": {
          "base_uri": "https://localhost:8080/",
          "height": 139
        },
        "id": "lVksAvXMs6bq",
        "outputId": "6fc0a226-e562-4576-b311-68578877002b"
      },
      "source": [
        "#softmax함수를 적용한거고 array가 열개인것은 한개 골라내는것 \n",
        "#가장큰 값 각 값중 가장 큰 값을 골라내면 test값 알수잇다.\n",
        "#이때 사용하는게 넘파이 아그맥스 이다.\n",
        "n#p.argmaxO 가장 큰 값을 찾고 저장된 위치 인덱스를 반환한다\n",
        "#라벨링 코딩 각각 값에 프리딕트 값이 들어잇을거고 넘파이 멕스로 \n",
        "#클래스 네임즈 리스트와 비교하기"
      ],
      "execution_count": 53,
      "outputs": [
        {
          "output_type": "error",
          "ename": "SyntaxError",
          "evalue": "ignored",
          "traceback": [
            "\u001b[0;36m  File \u001b[0;32m\"<ipython-input-53-c030d4d51149>\"\u001b[0;36m, line \u001b[0;32m2\u001b[0m\n\u001b[0;31m    가장큰 값 각 값중 가장 큰 값을 골라내면 test값 알수잇다.\u001b[0m\n\u001b[0m        ^\u001b[0m\n\u001b[0;31mSyntaxError\u001b[0m\u001b[0;31m:\u001b[0m invalid syntax\n"
          ]
        }
      ]
    },
    {
      "cell_type": "code",
      "metadata": {
        "colab": {
          "base_uri": "https://localhost:8080/"
        },
        "id": "-LU68hJuuPLR",
        "outputId": "e55efa05-180e-4101-b0b8-17dcdbaaa33a"
      },
      "source": [
        "result = np.argmax(predict[0])\n",
        "result"
      ],
      "execution_count": 59,
      "outputs": [
        {
          "output_type": "execute_result",
          "data": {
            "text/plain": [
              "4"
            ]
          },
          "metadata": {
            "tags": []
          },
          "execution_count": 59
        }
      ]
    },
    {
      "cell_type": "code",
      "metadata": {
        "colab": {
          "base_uri": "https://localhost:8080/"
        },
        "id": "KO8hp4BluS_d",
        "outputId": "217f05ea-9527-4cdf-9d67-6c53f45feb85"
      },
      "source": [
        "print(class_names[result])"
      ],
      "execution_count": 61,
      "outputs": [
        {
          "output_type": "stream",
          "text": [
            "Coat\n"
          ],
          "name": "stdout"
        }
      ]
    },
    {
      "cell_type": "code",
      "metadata": {
        "colab": {
          "base_uri": "https://localhost:8080/",
          "height": 620
        },
        "id": "M043bVMJu-6A",
        "outputId": "5c956c2c-d310-4adc-f0d6-ccb8165d67bd"
      },
      "source": [
        "plt.figure()\n",
        "plt.imshow(test_images[10].reshape(1,28,28), cmap=plt.cm.binary)\n",
        "plt.show()"
      ],
      "execution_count": 64,
      "outputs": [
        {
          "output_type": "error",
          "ename": "TypeError",
          "evalue": "ignored",
          "traceback": [
            "\u001b[0;31m---------------------------------------------------------------------------\u001b[0m",
            "\u001b[0;31mTypeError\u001b[0m                                 Traceback (most recent call last)",
            "\u001b[0;32m<ipython-input-64-8de2035a49b0>\u001b[0m in \u001b[0;36m<module>\u001b[0;34m()\u001b[0m\n\u001b[1;32m      1\u001b[0m \u001b[0mplt\u001b[0m\u001b[0;34m.\u001b[0m\u001b[0mfigure\u001b[0m\u001b[0;34m(\u001b[0m\u001b[0;34m)\u001b[0m\u001b[0;34m\u001b[0m\u001b[0;34m\u001b[0m\u001b[0m\n\u001b[0;32m----> 2\u001b[0;31m \u001b[0mplt\u001b[0m\u001b[0;34m.\u001b[0m\u001b[0mimshow\u001b[0m\u001b[0;34m(\u001b[0m\u001b[0mtest_images\u001b[0m\u001b[0;34m[\u001b[0m\u001b[0;36m10\u001b[0m\u001b[0;34m]\u001b[0m\u001b[0;34m.\u001b[0m\u001b[0mreshape\u001b[0m\u001b[0;34m(\u001b[0m\u001b[0;36m1\u001b[0m\u001b[0;34m,\u001b[0m\u001b[0;36m28\u001b[0m\u001b[0;34m,\u001b[0m\u001b[0;36m28\u001b[0m\u001b[0;34m)\u001b[0m\u001b[0;34m,\u001b[0m\u001b[0mcmap\u001b[0m\u001b[0;34m=\u001b[0m\u001b[0mplt\u001b[0m\u001b[0;34m.\u001b[0m\u001b[0mcm\u001b[0m\u001b[0;34m.\u001b[0m\u001b[0mbinary\u001b[0m\u001b[0;34m)\u001b[0m\u001b[0;34m\u001b[0m\u001b[0;34m\u001b[0m\u001b[0m\n\u001b[0m\u001b[1;32m      3\u001b[0m \u001b[0mplt\u001b[0m\u001b[0;34m.\u001b[0m\u001b[0mshow\u001b[0m\u001b[0;34m(\u001b[0m\u001b[0;34m)\u001b[0m\u001b[0;34m\u001b[0m\u001b[0;34m\u001b[0m\u001b[0m\n",
            "\u001b[0;32m/usr/local/lib/python3.6/dist-packages/matplotlib/pyplot.py\u001b[0m in \u001b[0;36mimshow\u001b[0;34m(X, cmap, norm, aspect, interpolation, alpha, vmin, vmax, origin, extent, shape, filternorm, filterrad, imlim, resample, url, data, **kwargs)\u001b[0m\n\u001b[1;32m   2649\u001b[0m         \u001b[0mfilternorm\u001b[0m\u001b[0;34m=\u001b[0m\u001b[0mfilternorm\u001b[0m\u001b[0;34m,\u001b[0m \u001b[0mfilterrad\u001b[0m\u001b[0;34m=\u001b[0m\u001b[0mfilterrad\u001b[0m\u001b[0;34m,\u001b[0m \u001b[0mimlim\u001b[0m\u001b[0;34m=\u001b[0m\u001b[0mimlim\u001b[0m\u001b[0;34m,\u001b[0m\u001b[0;34m\u001b[0m\u001b[0;34m\u001b[0m\u001b[0m\n\u001b[1;32m   2650\u001b[0m         resample=resample, url=url, **({\"data\": data} if data is not\n\u001b[0;32m-> 2651\u001b[0;31m         None else {}), **kwargs)\n\u001b[0m\u001b[1;32m   2652\u001b[0m     \u001b[0msci\u001b[0m\u001b[0;34m(\u001b[0m\u001b[0m__ret\u001b[0m\u001b[0;34m)\u001b[0m\u001b[0;34m\u001b[0m\u001b[0;34m\u001b[0m\u001b[0m\n\u001b[1;32m   2653\u001b[0m     \u001b[0;32mreturn\u001b[0m \u001b[0m__ret\u001b[0m\u001b[0;34m\u001b[0m\u001b[0;34m\u001b[0m\u001b[0m\n",
            "\u001b[0;32m/usr/local/lib/python3.6/dist-packages/matplotlib/__init__.py\u001b[0m in \u001b[0;36minner\u001b[0;34m(ax, data, *args, **kwargs)\u001b[0m\n\u001b[1;32m   1563\u001b[0m     \u001b[0;32mdef\u001b[0m \u001b[0minner\u001b[0m\u001b[0;34m(\u001b[0m\u001b[0max\u001b[0m\u001b[0;34m,\u001b[0m \u001b[0;34m*\u001b[0m\u001b[0margs\u001b[0m\u001b[0;34m,\u001b[0m \u001b[0mdata\u001b[0m\u001b[0;34m=\u001b[0m\u001b[0;32mNone\u001b[0m\u001b[0;34m,\u001b[0m \u001b[0;34m**\u001b[0m\u001b[0mkwargs\u001b[0m\u001b[0;34m)\u001b[0m\u001b[0;34m:\u001b[0m\u001b[0;34m\u001b[0m\u001b[0;34m\u001b[0m\u001b[0m\n\u001b[1;32m   1564\u001b[0m         \u001b[0;32mif\u001b[0m \u001b[0mdata\u001b[0m \u001b[0;32mis\u001b[0m \u001b[0;32mNone\u001b[0m\u001b[0;34m:\u001b[0m\u001b[0;34m\u001b[0m\u001b[0;34m\u001b[0m\u001b[0m\n\u001b[0;32m-> 1565\u001b[0;31m             \u001b[0;32mreturn\u001b[0m \u001b[0mfunc\u001b[0m\u001b[0;34m(\u001b[0m\u001b[0max\u001b[0m\u001b[0;34m,\u001b[0m \u001b[0;34m*\u001b[0m\u001b[0mmap\u001b[0m\u001b[0;34m(\u001b[0m\u001b[0msanitize_sequence\u001b[0m\u001b[0;34m,\u001b[0m \u001b[0margs\u001b[0m\u001b[0;34m)\u001b[0m\u001b[0;34m,\u001b[0m \u001b[0;34m**\u001b[0m\u001b[0mkwargs\u001b[0m\u001b[0;34m)\u001b[0m\u001b[0;34m\u001b[0m\u001b[0;34m\u001b[0m\u001b[0m\n\u001b[0m\u001b[1;32m   1566\u001b[0m \u001b[0;34m\u001b[0m\u001b[0m\n\u001b[1;32m   1567\u001b[0m         \u001b[0mbound\u001b[0m \u001b[0;34m=\u001b[0m \u001b[0mnew_sig\u001b[0m\u001b[0;34m.\u001b[0m\u001b[0mbind\u001b[0m\u001b[0;34m(\u001b[0m\u001b[0max\u001b[0m\u001b[0;34m,\u001b[0m \u001b[0;34m*\u001b[0m\u001b[0margs\u001b[0m\u001b[0;34m,\u001b[0m \u001b[0;34m**\u001b[0m\u001b[0mkwargs\u001b[0m\u001b[0;34m)\u001b[0m\u001b[0;34m\u001b[0m\u001b[0;34m\u001b[0m\u001b[0m\n",
            "\u001b[0;32m/usr/local/lib/python3.6/dist-packages/matplotlib/cbook/deprecation.py\u001b[0m in \u001b[0;36mwrapper\u001b[0;34m(*args, **kwargs)\u001b[0m\n\u001b[1;32m    356\u001b[0m                 \u001b[0;34mf\"%(removal)s.  If any parameter follows {name!r}, they \"\u001b[0m\u001b[0;34m\u001b[0m\u001b[0;34m\u001b[0m\u001b[0m\n\u001b[1;32m    357\u001b[0m                 f\"should be pass as keyword, not positionally.\")\n\u001b[0;32m--> 358\u001b[0;31m         \u001b[0;32mreturn\u001b[0m \u001b[0mfunc\u001b[0m\u001b[0;34m(\u001b[0m\u001b[0;34m*\u001b[0m\u001b[0margs\u001b[0m\u001b[0;34m,\u001b[0m \u001b[0;34m**\u001b[0m\u001b[0mkwargs\u001b[0m\u001b[0;34m)\u001b[0m\u001b[0;34m\u001b[0m\u001b[0;34m\u001b[0m\u001b[0m\n\u001b[0m\u001b[1;32m    359\u001b[0m \u001b[0;34m\u001b[0m\u001b[0m\n\u001b[1;32m    360\u001b[0m     \u001b[0;32mreturn\u001b[0m \u001b[0mwrapper\u001b[0m\u001b[0;34m\u001b[0m\u001b[0;34m\u001b[0m\u001b[0m\n",
            "\u001b[0;32m/usr/local/lib/python3.6/dist-packages/matplotlib/cbook/deprecation.py\u001b[0m in \u001b[0;36mwrapper\u001b[0;34m(*args, **kwargs)\u001b[0m\n\u001b[1;32m    356\u001b[0m                 \u001b[0;34mf\"%(removal)s.  If any parameter follows {name!r}, they \"\u001b[0m\u001b[0;34m\u001b[0m\u001b[0;34m\u001b[0m\u001b[0m\n\u001b[1;32m    357\u001b[0m                 f\"should be pass as keyword, not positionally.\")\n\u001b[0;32m--> 358\u001b[0;31m         \u001b[0;32mreturn\u001b[0m \u001b[0mfunc\u001b[0m\u001b[0;34m(\u001b[0m\u001b[0;34m*\u001b[0m\u001b[0margs\u001b[0m\u001b[0;34m,\u001b[0m \u001b[0;34m**\u001b[0m\u001b[0mkwargs\u001b[0m\u001b[0;34m)\u001b[0m\u001b[0;34m\u001b[0m\u001b[0;34m\u001b[0m\u001b[0m\n\u001b[0m\u001b[1;32m    359\u001b[0m \u001b[0;34m\u001b[0m\u001b[0m\n\u001b[1;32m    360\u001b[0m     \u001b[0;32mreturn\u001b[0m \u001b[0mwrapper\u001b[0m\u001b[0;34m\u001b[0m\u001b[0;34m\u001b[0m\u001b[0m\n",
            "\u001b[0;32m/usr/local/lib/python3.6/dist-packages/matplotlib/axes/_axes.py\u001b[0m in \u001b[0;36mimshow\u001b[0;34m(self, X, cmap, norm, aspect, interpolation, alpha, vmin, vmax, origin, extent, shape, filternorm, filterrad, imlim, resample, url, **kwargs)\u001b[0m\n\u001b[1;32m   5624\u001b[0m                               resample=resample, **kwargs)\n\u001b[1;32m   5625\u001b[0m \u001b[0;34m\u001b[0m\u001b[0m\n\u001b[0;32m-> 5626\u001b[0;31m         \u001b[0mim\u001b[0m\u001b[0;34m.\u001b[0m\u001b[0mset_data\u001b[0m\u001b[0;34m(\u001b[0m\u001b[0mX\u001b[0m\u001b[0;34m)\u001b[0m\u001b[0;34m\u001b[0m\u001b[0;34m\u001b[0m\u001b[0m\n\u001b[0m\u001b[1;32m   5627\u001b[0m         \u001b[0mim\u001b[0m\u001b[0;34m.\u001b[0m\u001b[0mset_alpha\u001b[0m\u001b[0;34m(\u001b[0m\u001b[0malpha\u001b[0m\u001b[0;34m)\u001b[0m\u001b[0;34m\u001b[0m\u001b[0;34m\u001b[0m\u001b[0m\n\u001b[1;32m   5628\u001b[0m         \u001b[0;32mif\u001b[0m \u001b[0mim\u001b[0m\u001b[0;34m.\u001b[0m\u001b[0mget_clip_path\u001b[0m\u001b[0;34m(\u001b[0m\u001b[0;34m)\u001b[0m \u001b[0;32mis\u001b[0m \u001b[0;32mNone\u001b[0m\u001b[0;34m:\u001b[0m\u001b[0;34m\u001b[0m\u001b[0;34m\u001b[0m\u001b[0m\n",
            "\u001b[0;32m/usr/local/lib/python3.6/dist-packages/matplotlib/image.py\u001b[0m in \u001b[0;36mset_data\u001b[0;34m(self, A)\u001b[0m\n\u001b[1;32m    697\u001b[0m                 or self._A.ndim == 3 and self._A.shape[-1] in [3, 4]):\n\u001b[1;32m    698\u001b[0m             raise TypeError(\"Invalid shape {} for image data\"\n\u001b[0;32m--> 699\u001b[0;31m                             .format(self._A.shape))\n\u001b[0m\u001b[1;32m    700\u001b[0m \u001b[0;34m\u001b[0m\u001b[0m\n\u001b[1;32m    701\u001b[0m         \u001b[0;32mif\u001b[0m \u001b[0mself\u001b[0m\u001b[0;34m.\u001b[0m\u001b[0m_A\u001b[0m\u001b[0;34m.\u001b[0m\u001b[0mndim\u001b[0m \u001b[0;34m==\u001b[0m \u001b[0;36m3\u001b[0m\u001b[0;34m:\u001b[0m\u001b[0;34m\u001b[0m\u001b[0;34m\u001b[0m\u001b[0m\n",
            "\u001b[0;31mTypeError\u001b[0m: Invalid shape (1, 28, 28) for image data"
          ]
        },
        {
          "output_type": "display_data",
          "data": {
            "image/png": "[encoded data removed]",
            "text/plain": [
              "<Figure size 432x288 with 1 Axes>"
            ]
          },
          "metadata": {
            "tags": [],
            "needs_background": "light"
          }
        }
      ]
    },
    {
      "cell_type": "code",
      "metadata": {
        "id": "tLhMNAR3vMh2"
      },
      "source": [
        ""
      ],
      "execution_count": null,
      "outputs": []
    }
  ]
}