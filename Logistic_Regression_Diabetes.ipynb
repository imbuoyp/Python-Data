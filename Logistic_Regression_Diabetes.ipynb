{
  "nbformat": 4,
  "nbformat_minor": 0,
  "metadata": {
    "colab": {
      "name": "Logistic_Regression_Diabetes",
      "provenance": [],
      "collapsed_sections": [],
      "authorship_tag": "ABX9TyPxmUGL7FWWO+CANMC4cjX5",
      "include_colab_link": true
    },
    "kernelspec": {
      "name": "python3",
      "display_name": "Python 3"
    }
  },
  "cells": [
    {
      "cell_type": "markdown",
      "metadata": {
        "id": "view-in-github",
        "colab_type": "text"
      },
      "source": [
        "<a href=\"https://colab.research.google.com/github/imbuoyp/Python-Data/blob/main/Logistic_Regression_Diabetes.ipynb\" target=\"_parent\"><img src=\"https://colab.research.google.com/assets/colab-badge.svg\" alt=\"Open In Colab\"/></a>"
      ]
    },
    {
      "cell_type": "code",
      "metadata": {
        "id": "cdn00B9BzqbZ"
      },
      "source": [
        "# import libraries"
      ],
      "execution_count": 1,
      "outputs": []
    },
    {
      "cell_type": "code",
      "metadata": {
        "id": "FFuvkdA9z3VN"
      },
      "source": [
        "import numpy as np\n",
        "import pandas as pd\n",
        "import matplotlib.pyplot as plt\n",
        "\n",
        "from sklearn import datasets, model_selection, linear_model\n",
        "from sklearn.metrics import mean_squared_error, accuracy_score"
      ],
      "execution_count": 46,
      "outputs": []
    },
    {
      "cell_type": "code",
      "metadata": {
        "id": "LsPlwyP70Kh8"
      },
      "source": [
        "#load datasets"
      ],
      "execution_count": 5,
      "outputs": []
    },
    {
      "cell_type": "code",
      "metadata": {
        "colab": {
          "base_uri": "https://localhost:8080/"
        },
        "id": "tj0srIqR0VqT",
        "outputId": "d4a70d5c-c15c-4425-d994-fb151bc2b34e"
      },
      "source": [
        "diabetes = datasets.load_diabetes()\n",
        "diabetes"
      ],
      "execution_count": 6,
      "outputs": [
        {
          "output_type": "execute_result",
          "data": {
            "text/plain": [
              "{'DESCR': '.. _diabetes_dataset:\\n\\nDiabetes dataset\\n----------------\\n\\nTen baseline variables, age, sex, body mass index, average blood\\npressure, and six blood serum measurements were obtained for each of n =\\n442 diabetes patients, as well as the response of interest, a\\nquantitative measure of disease progression one year after baseline.\\n\\n**Data Set Characteristics:**\\n\\n  :Number of Instances: 442\\n\\n  :Number of Attributes: First 10 columns are numeric predictive values\\n\\n  :Target: Column 11 is a quantitative measure of disease progression one year after baseline\\n\\n  :Attribute Information:\\n      - Age\\n      - Sex\\n      - Body mass index\\n      - Average blood pressure\\n      - S1\\n      - S2\\n      - S3\\n      - S4\\n      - S5\\n      - S6\\n\\nNote: Each of these 10 feature variables have been mean centered and scaled by the standard deviation times `n_samples` (i.e. the sum of squares of each column totals 1).\\n\\nSource URL:\\nhttps://www4.stat.ncsu.edu/~boos/var.select/diabetes.html\\n\\nFor more information see:\\nBradley Efron, Trevor Hastie, Iain Johnstone and Robert Tibshirani (2004) \"Least Angle Regression,\" Annals of Statistics (with discussion), 407-499.\\n(https://web.stanford.edu/~hastie/Papers/LARS/LeastAngle_2002.pdf)',\n",
              " 'data': array([[ 0.03807591,  0.05068012,  0.06169621, ..., -0.00259226,\n",
              "          0.01990842, -0.01764613],\n",
              "        [-0.00188202, -0.04464164, -0.05147406, ..., -0.03949338,\n",
              "         -0.06832974, -0.09220405],\n",
              "        [ 0.08529891,  0.05068012,  0.04445121, ..., -0.00259226,\n",
              "          0.00286377, -0.02593034],\n",
              "        ...,\n",
              "        [ 0.04170844,  0.05068012, -0.01590626, ..., -0.01107952,\n",
              "         -0.04687948,  0.01549073],\n",
              "        [-0.04547248, -0.04464164,  0.03906215, ...,  0.02655962,\n",
              "          0.04452837, -0.02593034],\n",
              "        [-0.04547248, -0.04464164, -0.0730303 , ..., -0.03949338,\n",
              "         -0.00421986,  0.00306441]]),\n",
              " 'data_filename': '/usr/local/lib/python3.6/dist-packages/sklearn/datasets/data/diabetes_data.csv.gz',\n",
              " 'feature_names': ['age',\n",
              "  'sex',\n",
              "  'bmi',\n",
              "  'bp',\n",
              "  's1',\n",
              "  's2',\n",
              "  's3',\n",
              "  's4',\n",
              "  's5',\n",
              "  's6'],\n",
              " 'target': array([151.,  75., 141., 206., 135.,  97., 138.,  63., 110., 310., 101.,\n",
              "         69., 179., 185., 118., 171., 166., 144.,  97., 168.,  68.,  49.,\n",
              "         68., 245., 184., 202., 137.,  85., 131., 283., 129.,  59., 341.,\n",
              "         87.,  65., 102., 265., 276., 252.,  90., 100.,  55.,  61.,  92.,\n",
              "        259.,  53., 190., 142.,  75., 142., 155., 225.,  59., 104., 182.,\n",
              "        128.,  52.,  37., 170., 170.,  61., 144.,  52., 128.,  71., 163.,\n",
              "        150.,  97., 160., 178.,  48., 270., 202., 111.,  85.,  42., 170.,\n",
              "        200., 252., 113., 143.,  51.,  52., 210.,  65., 141.,  55., 134.,\n",
              "         42., 111.,  98., 164.,  48.,  96.,  90., 162., 150., 279.,  92.,\n",
              "         83., 128., 102., 302., 198.,  95.,  53., 134., 144., 232.,  81.,\n",
              "        104.,  59., 246., 297., 258., 229., 275., 281., 179., 200., 200.,\n",
              "        173., 180.,  84., 121., 161.,  99., 109., 115., 268., 274., 158.,\n",
              "        107.,  83., 103., 272.,  85., 280., 336., 281., 118., 317., 235.,\n",
              "         60., 174., 259., 178., 128.,  96., 126., 288.,  88., 292.,  71.,\n",
              "        197., 186.,  25.,  84.,  96., 195.,  53., 217., 172., 131., 214.,\n",
              "         59.,  70., 220., 268., 152.,  47.,  74., 295., 101., 151., 127.,\n",
              "        237., 225.,  81., 151., 107.,  64., 138., 185., 265., 101., 137.,\n",
              "        143., 141.,  79., 292., 178.,  91., 116.,  86., 122.,  72., 129.,\n",
              "        142.,  90., 158.,  39., 196., 222., 277.,  99., 196., 202., 155.,\n",
              "         77., 191.,  70.,  73.,  49.,  65., 263., 248., 296., 214., 185.,\n",
              "         78.,  93., 252., 150.,  77., 208.,  77., 108., 160.,  53., 220.,\n",
              "        154., 259.,  90., 246., 124.,  67.,  72., 257., 262., 275., 177.,\n",
              "         71.,  47., 187., 125.,  78.,  51., 258., 215., 303., 243.,  91.,\n",
              "        150., 310., 153., 346.,  63.,  89.,  50.,  39., 103., 308., 116.,\n",
              "        145.,  74.,  45., 115., 264.,  87., 202., 127., 182., 241.,  66.,\n",
              "         94., 283.,  64., 102., 200., 265.,  94., 230., 181., 156., 233.,\n",
              "         60., 219.,  80.,  68., 332., 248.,  84., 200.,  55.,  85.,  89.,\n",
              "         31., 129.,  83., 275.,  65., 198., 236., 253., 124.,  44., 172.,\n",
              "        114., 142., 109., 180., 144., 163., 147.,  97., 220., 190., 109.,\n",
              "        191., 122., 230., 242., 248., 249., 192., 131., 237.,  78., 135.,\n",
              "        244., 199., 270., 164.,  72.,  96., 306.,  91., 214.,  95., 216.,\n",
              "        263., 178., 113., 200., 139., 139.,  88., 148.,  88., 243.,  71.,\n",
              "         77., 109., 272.,  60.,  54., 221.,  90., 311., 281., 182., 321.,\n",
              "         58., 262., 206., 233., 242., 123., 167.,  63., 197.,  71., 168.,\n",
              "        140., 217., 121., 235., 245.,  40.,  52., 104., 132.,  88.,  69.,\n",
              "        219.,  72., 201., 110.,  51., 277.,  63., 118.,  69., 273., 258.,\n",
              "         43., 198., 242., 232., 175.,  93., 168., 275., 293., 281.,  72.,\n",
              "        140., 189., 181., 209., 136., 261., 113., 131., 174., 257.,  55.,\n",
              "         84.,  42., 146., 212., 233.,  91., 111., 152., 120.,  67., 310.,\n",
              "         94., 183.,  66., 173.,  72.,  49.,  64.,  48., 178., 104., 132.,\n",
              "        220.,  57.]),\n",
              " 'target_filename': '/usr/local/lib/python3.6/dist-packages/sklearn/datasets/data/diabetes_target.csv.gz'}"
            ]
          },
          "metadata": {
            "tags": []
          },
          "execution_count": 6
        }
      ]
    },
    {
      "cell_type": "code",
      "metadata": {
        "id": "PSPVDeXq0c3W"
      },
      "source": [
        "# 위에 항목은 피쳐, 밑에 항목(target)은 정답"
      ],
      "execution_count": 7,
      "outputs": []
    },
    {
      "cell_type": "code",
      "metadata": {
        "id": "7dUfos9v0n32"
      },
      "source": [
        "diabetes_target = diabetes.target\n",
        "diabetes_train = diabetes.data\n",
        "#1년뒤 당노병환자의 병 진척 척도 \n",
        "#평균 지점을 두고 평균 이상은 양성, 미만은 음성으로 판단할 것 target data에서 평균값을 구할것"
      ],
      "execution_count": 10,
      "outputs": []
    },
    {
      "cell_type": "code",
      "metadata": {
        "colab": {
          "base_uri": "https://localhost:8080/"
        },
        "id": "jPbAg3Li0wtv",
        "outputId": "5df2f813-65fb-4b15-9bf6-c361eafa8587"
      },
      "source": [
        "diabetes_train\n",
        "#어레이 한줄당 한 환자의 피쳐들\n",
        "#구하려고하는 건 타겟의 평균"
      ],
      "execution_count": 11,
      "outputs": [
        {
          "output_type": "execute_result",
          "data": {
            "text/plain": [
              "array([[ 0.03807591,  0.05068012,  0.06169621, ..., -0.00259226,\n",
              "         0.01990842, -0.01764613],\n",
              "       [-0.00188202, -0.04464164, -0.05147406, ..., -0.03949338,\n",
              "        -0.06832974, -0.09220405],\n",
              "       [ 0.08529891,  0.05068012,  0.04445121, ..., -0.00259226,\n",
              "         0.00286377, -0.02593034],\n",
              "       ...,\n",
              "       [ 0.04170844,  0.05068012, -0.01590626, ..., -0.01107952,\n",
              "        -0.04687948,  0.01549073],\n",
              "       [-0.04547248, -0.04464164,  0.03906215, ...,  0.02655962,\n",
              "         0.04452837, -0.02593034],\n",
              "       [-0.04547248, -0.04464164, -0.0730303 , ..., -0.03949338,\n",
              "        -0.00421986,  0.00306441]])"
            ]
          },
          "metadata": {
            "tags": []
          },
          "execution_count": 11
        }
      ]
    },
    {
      "cell_type": "code",
      "metadata": {
        "id": "B1DXsZSf2KPI"
      },
      "source": [
        "#3.create binary labels"
      ],
      "execution_count": null,
      "outputs": []
    },
    {
      "cell_type": "code",
      "metadata": {
        "colab": {
          "base_uri": "https://localhost:8080/"
        },
        "id": "Aj7VHShl1HvX",
        "outputId": "d7f39c7f-5eb6-466d-c8a3-6e663ae045f6"
      },
      "source": [
        "mean_measurement = np.mean(diabetes_target)\n",
        "print(mean_measurement)"
      ],
      "execution_count": 13,
      "outputs": [
        {
          "output_type": "stream",
          "text": [
            "152.13348416289594\n"
          ],
          "name": "stdout"
        }
      ]
    },
    {
      "cell_type": "code",
      "metadata": {
        "colab": {
          "base_uri": "https://localhost:8080/"
        },
        "id": "jKRDgGd81S0f",
        "outputId": "df175783-953d-49cd-ee6c-f64e92624eb6"
      },
      "source": [
        "#큰지 작은지 물어야함.t/f\n",
        "diabetes_target_zero_one = np.array(diabetes_target > mean_measurement, dtype=int)\n",
        "diabetes_target_zero_one\n",
        "#정답값이 mean보다 큰가? 맞으면 t 음성 f\n",
        "#t /f를 정수형으로 바꿀때 np.array, dtype=int를 넣는다\n",
        "#새로운 정답값으로 사용할 것임."
      ],
      "execution_count": 16,
      "outputs": [
        {
          "output_type": "execute_result",
          "data": {
            "text/plain": [
              "array([0, 0, 0, 1, 0, 0, 0, 0, 0, 1, 0, 0, 1, 1, 0, 1, 1, 0, 0, 1, 0, 0,\n",
              "       0, 1, 1, 1, 0, 0, 0, 1, 0, 0, 1, 0, 0, 0, 1, 1, 1, 0, 0, 0, 0, 0,\n",
              "       1, 0, 1, 0, 0, 0, 1, 1, 0, 0, 1, 0, 0, 0, 1, 1, 0, 0, 0, 0, 0, 1,\n",
              "       0, 0, 1, 1, 0, 1, 1, 0, 0, 0, 1, 1, 1, 0, 0, 0, 0, 1, 0, 0, 0, 0,\n",
              "       0, 0, 0, 1, 0, 0, 0, 1, 0, 1, 0, 0, 0, 0, 1, 1, 0, 0, 0, 0, 1, 0,\n",
              "       0, 0, 1, 1, 1, 1, 1, 1, 1, 1, 1, 1, 1, 0, 0, 1, 0, 0, 0, 1, 1, 1,\n",
              "       0, 0, 0, 1, 0, 1, 1, 1, 0, 1, 1, 0, 1, 1, 1, 0, 0, 0, 1, 0, 1, 0,\n",
              "       1, 1, 0, 0, 0, 1, 0, 1, 1, 0, 1, 0, 0, 1, 1, 0, 0, 0, 1, 0, 0, 0,\n",
              "       1, 1, 0, 0, 0, 0, 0, 1, 1, 0, 0, 0, 0, 0, 1, 1, 0, 0, 0, 0, 0, 0,\n",
              "       0, 0, 1, 0, 1, 1, 1, 0, 1, 1, 1, 0, 1, 0, 0, 0, 0, 1, 1, 1, 1, 1,\n",
              "       0, 0, 1, 0, 0, 1, 0, 0, 1, 0, 1, 1, 1, 0, 1, 0, 0, 0, 1, 1, 1, 1,\n",
              "       0, 0, 1, 0, 0, 0, 1, 1, 1, 1, 0, 0, 1, 1, 1, 0, 0, 0, 0, 0, 1, 0,\n",
              "       0, 0, 0, 0, 1, 0, 1, 0, 1, 1, 0, 0, 1, 0, 0, 1, 1, 0, 1, 1, 1, 1,\n",
              "       0, 1, 0, 0, 1, 1, 0, 1, 0, 0, 0, 0, 0, 0, 1, 0, 1, 1, 1, 0, 0, 1,\n",
              "       0, 0, 0, 1, 0, 1, 0, 0, 1, 1, 0, 1, 0, 1, 1, 1, 1, 1, 0, 1, 0, 0,\n",
              "       1, 1, 1, 1, 0, 0, 1, 0, 1, 0, 1, 1, 1, 0, 1, 0, 0, 0, 0, 0, 1, 0,\n",
              "       0, 0, 1, 0, 0, 1, 0, 1, 1, 1, 1, 0, 1, 1, 1, 1, 0, 1, 0, 1, 0, 1,\n",
              "       0, 1, 0, 1, 1, 0, 0, 0, 0, 0, 0, 1, 0, 1, 0, 0, 1, 0, 0, 0, 1, 1,\n",
              "       0, 1, 1, 1, 1, 0, 1, 1, 1, 1, 0, 0, 1, 1, 1, 0, 1, 0, 0, 1, 1, 0,\n",
              "       0, 0, 0, 1, 1, 0, 0, 0, 0, 0, 1, 0, 1, 0, 1, 0, 0, 0, 0, 1, 0, 0,\n",
              "       1, 0])"
            ]
          },
          "metadata": {
            "tags": []
          },
          "execution_count": 16
        }
      ]
    },
    {
      "cell_type": "code",
      "metadata": {
        "id": "eVCGtW3e2VW1"
      },
      "source": [
        "#4.feature selection"
      ],
      "execution_count": null,
      "outputs": []
    },
    {
      "cell_type": "code",
      "metadata": {
        "colab": {
          "base_uri": "https://localhost:8080/"
        },
        "id": "zzmlfvGg1k2Y",
        "outputId": "bb1b700e-df4b-459f-f9d0-c834e384ceb2"
      },
      "source": [
        "#어떤 정답값을 갖을지 찾는것\n",
        "diabetes_x = diabetes_train[:,2:7]\n",
        "#콤마기준으로 행 오른쪽은 열\n",
        "#행은 데이터셋 전체 442개의 행이 있는데 전체 다\n",
        "#뒤에 : 는 가져오고 싶은것 \n",
        "diabetes_x"
      ],
      "execution_count": 73,
      "outputs": [
        {
          "output_type": "execute_result",
          "data": {
            "text/plain": [
              "array([[ 0.06169621,  0.02187235, -0.0442235 , -0.03482076, -0.04340085],\n",
              "       [-0.05147406, -0.02632783, -0.00844872, -0.01916334,  0.07441156],\n",
              "       [ 0.04445121, -0.00567061, -0.04559945, -0.03419447, -0.03235593],\n",
              "       ...,\n",
              "       [-0.01590626,  0.01728186, -0.03734373, -0.01383982, -0.02499266],\n",
              "       [ 0.03906215,  0.00121513,  0.01631843,  0.01528299, -0.02867429],\n",
              "       [-0.0730303 , -0.08141377,  0.08374012,  0.02780893,  0.17381578]])"
            ]
          },
          "metadata": {
            "tags": []
          },
          "execution_count": 73
        }
      ]
    },
    {
      "cell_type": "code",
      "metadata": {
        "colab": {
          "base_uri": "https://localhost:8080/"
        },
        "id": "d1nGWExb2mzl",
        "outputId": "c56d7a08-5034-4b0b-c12d-d9a8541069ce"
      },
      "source": [
        "#print(diabetes.feature_names)"
      ],
      "execution_count": 20,
      "outputs": [
        {
          "output_type": "stream",
          "text": [
            "['age', 'sex', 'bmi', 'bp', 's1', 's2', 's3', 's4', 's5', 's6']\n"
          ],
          "name": "stdout"
        }
      ]
    },
    {
      "cell_type": "code",
      "metadata": {
        "colab": {
          "base_uri": "https://localhost:8080/"
        },
        "id": "6W8WXHKM2w39",
        "outputId": "5440813a-e4f9-43bc-e3e8-523b99ada566"
      },
      "source": [
        "diabetes_y = diabetes_target_zero_one\n",
        "diabetes_y"
      ],
      "execution_count": 23,
      "outputs": [
        {
          "output_type": "execute_result",
          "data": {
            "text/plain": [
              "array([0, 0, 0, 1, 0, 0, 0, 0, 0, 1, 0, 0, 1, 1, 0, 1, 1, 0, 0, 1, 0, 0,\n",
              "       0, 1, 1, 1, 0, 0, 0, 1, 0, 0, 1, 0, 0, 0, 1, 1, 1, 0, 0, 0, 0, 0,\n",
              "       1, 0, 1, 0, 0, 0, 1, 1, 0, 0, 1, 0, 0, 0, 1, 1, 0, 0, 0, 0, 0, 1,\n",
              "       0, 0, 1, 1, 0, 1, 1, 0, 0, 0, 1, 1, 1, 0, 0, 0, 0, 1, 0, 0, 0, 0,\n",
              "       0, 0, 0, 1, 0, 0, 0, 1, 0, 1, 0, 0, 0, 0, 1, 1, 0, 0, 0, 0, 1, 0,\n",
              "       0, 0, 1, 1, 1, 1, 1, 1, 1, 1, 1, 1, 1, 0, 0, 1, 0, 0, 0, 1, 1, 1,\n",
              "       0, 0, 0, 1, 0, 1, 1, 1, 0, 1, 1, 0, 1, 1, 1, 0, 0, 0, 1, 0, 1, 0,\n",
              "       1, 1, 0, 0, 0, 1, 0, 1, 1, 0, 1, 0, 0, 1, 1, 0, 0, 0, 1, 0, 0, 0,\n",
              "       1, 1, 0, 0, 0, 0, 0, 1, 1, 0, 0, 0, 0, 0, 1, 1, 0, 0, 0, 0, 0, 0,\n",
              "       0, 0, 1, 0, 1, 1, 1, 0, 1, 1, 1, 0, 1, 0, 0, 0, 0, 1, 1, 1, 1, 1,\n",
              "       0, 0, 1, 0, 0, 1, 0, 0, 1, 0, 1, 1, 1, 0, 1, 0, 0, 0, 1, 1, 1, 1,\n",
              "       0, 0, 1, 0, 0, 0, 1, 1, 1, 1, 0, 0, 1, 1, 1, 0, 0, 0, 0, 0, 1, 0,\n",
              "       0, 0, 0, 0, 1, 0, 1, 0, 1, 1, 0, 0, 1, 0, 0, 1, 1, 0, 1, 1, 1, 1,\n",
              "       0, 1, 0, 0, 1, 1, 0, 1, 0, 0, 0, 0, 0, 0, 1, 0, 1, 1, 1, 0, 0, 1,\n",
              "       0, 0, 0, 1, 0, 1, 0, 0, 1, 1, 0, 1, 0, 1, 1, 1, 1, 1, 0, 1, 0, 0,\n",
              "       1, 1, 1, 1, 0, 0, 1, 0, 1, 0, 1, 1, 1, 0, 1, 0, 0, 0, 0, 0, 1, 0,\n",
              "       0, 0, 1, 0, 0, 1, 0, 1, 1, 1, 1, 0, 1, 1, 1, 1, 0, 1, 0, 1, 0, 1,\n",
              "       0, 1, 0, 1, 1, 0, 0, 0, 0, 0, 0, 1, 0, 1, 0, 0, 1, 0, 0, 0, 1, 1,\n",
              "       0, 1, 1, 1, 1, 0, 1, 1, 1, 1, 0, 0, 1, 1, 1, 0, 1, 0, 0, 1, 1, 0,\n",
              "       0, 0, 0, 1, 1, 0, 0, 0, 0, 0, 1, 0, 1, 0, 1, 0, 0, 0, 0, 1, 0, 0,\n",
              "       1, 0])"
            ]
          },
          "metadata": {
            "tags": []
          },
          "execution_count": 23
        }
      ]
    },
    {
      "cell_type": "code",
      "metadata": {
        "id": "t28RJJPq3AoO"
      },
      "source": [
        "#train_set, test_set 나눈다\n",
        "#5.split into train & test"
      ],
      "execution_count": 24,
      "outputs": []
    },
    {
      "cell_type": "code",
      "metadata": {
        "colab": {
          "base_uri": "https://localhost:8080/"
        },
        "id": "oh2Qbne93YFs",
        "outputId": "650cb7f4-e177-42aa-a14f-8b07c894ef81"
      },
      "source": [
        "x_train, x_test, y_train, y_test = model_selection.train_test_split(diabetes_x, diabetes_y, test_size=0.3, random_state=42)\n",
        "print(x_train.shape)\n",
        "print(y_test.shape)\n",
        "print(y_train.shape)\n",
        "print(y_test.shape)"
      ],
      "execution_count": 37,
      "outputs": [
        {
          "output_type": "stream",
          "text": [
            "(309, 1)\n",
            "(133,)\n",
            "(309,)\n",
            "(133,)\n"
          ],
          "name": "stdout"
        }
      ]
    },
    {
      "cell_type": "code",
      "metadata": {
        "colab": {
          "base_uri": "https://localhost:8080/"
        },
        "id": "CiIiQDyX4cqs",
        "outputId": "11061a5b-b090-40c3-fb88-624ece26919a"
      },
      "source": [
        "#6.create model object=붕어빵틀\n",
        "model = linear_model.LogisticRegression(n_jobs=-1)\n",
        "model\n",
        "#njob는 코어 몇 개 사용할거냐 디폴트 값이 -1이다  "
      ],
      "execution_count": 38,
      "outputs": [
        {
          "output_type": "execute_result",
          "data": {
            "text/plain": [
              "LogisticRegression(C=1.0, class_weight=None, dual=False, fit_intercept=True,\n",
              "                   intercept_scaling=1, l1_ratio=None, max_iter=100,\n",
              "                   multi_class='auto', n_jobs=-1, penalty='l2',\n",
              "                   random_state=None, solver='lbfgs', tol=0.0001, verbose=0,\n",
              "                   warm_start=False)"
            ]
          },
          "metadata": {
            "tags": []
          },
          "execution_count": 38
        }
      ]
    },
    {
      "cell_type": "code",
      "metadata": {
        "colab": {
          "base_uri": "https://localhost:8080/"
        },
        "id": "ViyvI-jA4ts9",
        "outputId": "9b49b57a-cfea-446e-8a2b-4cb4c459b9eb"
      },
      "source": [
        "#7.train model object\n",
        "model.fit(x_train, y_train)\n",
        "#n2는 절대값으로\n",
        "#n1은 스퀘어 값으로 그게 페널티\n",
        "#랜덤으로 바꾸는것\n",
        "#멀티클랙스: 멀티값쓸때 1vsratio"
      ],
      "execution_count": 39,
      "outputs": [
        {
          "output_type": "execute_result",
          "data": {
            "text/plain": [
              "LogisticRegression(C=1.0, class_weight=None, dual=False, fit_intercept=True,\n",
              "                   intercept_scaling=1, l1_ratio=None, max_iter=100,\n",
              "                   multi_class='auto', n_jobs=-1, penalty='l2',\n",
              "                   random_state=None, solver='lbfgs', tol=0.0001, verbose=0,\n",
              "                   warm_start=False)"
            ]
          },
          "metadata": {
            "tags": []
          },
          "execution_count": 39
        }
      ]
    },
    {
      "cell_type": "code",
      "metadata": {
        "colab": {
          "base_uri": "https://localhost:8080/"
        },
        "id": "4EZPUr9V4zLA",
        "outputId": "7c15fb1e-23ac-4605-bfd4-16c0a6149715"
      },
      "source": [
        "#test model object\n",
        "model.predict(x_test)"
      ],
      "execution_count": 60,
      "outputs": [
        {
          "output_type": "execute_result",
          "data": {
            "text/plain": [
              "array([0, 0, 0, 1, 0, 0, 0, 0, 0, 0, 0, 0, 0, 0, 0, 0, 0, 0, 0, 0, 0, 0,\n",
              "       0, 0, 0, 0, 0, 0, 0, 0, 0, 0, 0, 0, 0, 0, 0, 0, 0, 0, 0, 0, 0, 0,\n",
              "       1, 0, 0, 0, 0, 0, 0, 0, 0, 0, 0, 0, 0, 0, 0, 0, 0, 0, 0, 0, 0, 0,\n",
              "       0, 0, 0, 0, 0, 0, 0, 0, 0, 0, 0, 0, 0, 0, 0, 0, 0, 0, 0, 0, 0, 0,\n",
              "       0, 0, 0, 0, 0, 0, 0, 0, 1, 0, 0, 0, 0, 0, 0, 0, 0, 0, 0, 0, 0, 0,\n",
              "       0, 0, 0, 0, 0, 0, 0, 0, 0, 0, 0, 0, 0, 0, 0, 0, 0, 0, 0, 0, 0, 0,\n",
              "       0])"
            ]
          },
          "metadata": {
            "tags": []
          },
          "execution_count": 60
        }
      ]
    },
    {
      "cell_type": "code",
      "metadata": {
        "id": "IWh7HgfX5ahs"
      },
      "source": [
        "pred_test = model.predict_proba(x_test)"
      ],
      "execution_count": 61,
      "outputs": []
    },
    {
      "cell_type": "code",
      "metadata": {
        "colab": {
          "base_uri": "https://localhost:8080/"
        },
        "id": "2Qcq_6a65hfZ",
        "outputId": "760a30f2-9d41-44fc-8e2c-e623e03b6e77"
      },
      "source": [
        "ac_score =  accuracy_score(model.predict(x_test), y_test)\n",
        "print(\"Accuracy: {0: 5f}\".format(ac_score))"
      ],
      "execution_count": 63,
      "outputs": [
        {
          "output_type": "stream",
          "text": [
            "Accuracy:  0.571429\n"
          ],
          "name": "stdout"
        }
      ]
    },
    {
      "cell_type": "code",
      "metadata": {
        "id": "aJhHwhqs6F0w"
      },
      "source": [
        "#9.visualization\n",
        "\n",
        "#roc, auc 계산하는게 sklearn에 있음 \n",
        "from sklearn.metrics import roc_curve, auc"
      ],
      "execution_count": 66,
      "outputs": []
    },
    {
      "cell_type": "code",
      "metadata": {
        "id": "MYoyNUTf7Bxu"
      },
      "source": [
        "fpr, tpr, _ = roc_curve(y_true=y_test, y_score=pred_test[:,1])\n",
        "roc_auc = auc(fpr, tpr)\n",
        "#y_true 뒤에는 정답, y_score는 확률 proba\n",
        "#y_score행으로 전체 데이터, 양성 1일 확률을 넣어줌 "
      ],
      "execution_count": 70,
      "outputs": []
    },
    {
      "cell_type": "code",
      "metadata": {
        "colab": {
          "base_uri": "https://localhost:8080/",
          "height": 630
        },
        "id": "yJdHG1nG7lEr",
        "outputId": "2a72ea09-531c-4790-dfdd-db679c96bdbf"
      },
      "source": [
        "plt.figure(figsize=(18, 10))\n",
        "plt.plot(fpr, tpr, color='darkorange', lw=2, label=\"ROC curve (area = %.2f)\"%roc_auc)\n",
        "plt.scatter(fpr, tpr, color='black')\n",
        "plt.plot([0,1], [0,1], color='navy', lw=2, linestyle='--')\n",
        "plt.xlim([0.0, 1.0])\n",
        "plt.ylim([0.0, 1.05])\n",
        "plt.xlabel('False Positive Rate')\n",
        "plt.ylabel('True Positive Rate')\n",
        "plt.title(\"ROC curve\", size=25)\n",
        "plt.legend(loc='lower right')\n",
        "plt.show()"
      ],
      "execution_count": 72,
      "outputs": [
        {
          "output_type": "display_data",
          "data": {
            "image/png": "[encoded data removed]",
            "text/plain": [
              "<Figure size 1296x720 with 1 Axes>"
            ]
          },
          "metadata": {
            "tags": [],
            "needs_background": "light"
          }
        }
      ]
    },
    {
      "cell_type": "code",
      "metadata": {
        "id": "RaYS_2ea8WH0"
      },
      "source": [
        "#10. searching for proper features"
      ],
      "execution_count": null,
      "outputs": []
    },
    {
      "cell_type": "code",
      "metadata": {
        "colab": {
          "base_uri": "https://localhost:8080/"
        },
        "id": "ud4qjzw1Wzf7",
        "outputId": "49850de4-b744-4c90-b2ba-c0d8548e11ce"
      },
      "source": [
        "diabetes.feature_names"
      ],
      "execution_count": 74,
      "outputs": [
        {
          "output_type": "execute_result",
          "data": {
            "text/plain": [
              "['age', 'sex', 'bmi', 'bp', 's1', 's2', 's3', 's4', 's5', 's6']"
            ]
          },
          "metadata": {
            "tags": []
          },
          "execution_count": 74
        }
      ]
    },
    {
      "cell_type": "code",
      "metadata": {
        "id": "Ckxm1n1DW5ZW"
      },
      "source": [
        "from itertools import combinations, permutations"
      ],
      "execution_count": 78,
      "outputs": []
    },
    {
      "cell_type": "code",
      "metadata": {
        "id": "XswAPVI1XWcJ"
      },
      "source": [
        "possible_comb = []\n",
        "total_feature_length = range(len(diabetes.feature_names))\n",
        "#1, 10, 1, 9, 이렇게 포루프\n",
        "for i in total_feature_length:\n",
        "  possible_comb.append(list(combinations(total_feature_length, i)))"
      ],
      "execution_count": 89,
      "outputs": []
    },
    {
      "cell_type": "code",
      "metadata": {
        "id": "6wDLefGbY3Gd"
      },
      "source": [
        "flat_possible_comb = [item for sublist in possible_comb for item in sublist if item is not ()]\n",
        "# 1.item for sublist in possible_comb for item in sublist\n",
        "#2.if item is not ()\n",
        "#smaple = []\n",
        "#for sublist in possible_comb:\n",
        "#    for item in sublist:\n",
        "#      if item != ():\n",
        "#        smaple.append(item)"
      ],
      "execution_count": 94,
      "outputs": []
    },
    {
      "cell_type": "code",
      "metadata": {
        "colab": {
          "base_uri": "https://localhost:8080/"
        },
        "id": "LIiijkhhXbqF",
        "outputId": "cb335d42-30a6-4d8e-a2ec-234adcb377c3"
      },
      "source": [
        "#list(combinations(total_feature_length, 2))\n",
        "#123집합데이터를 2개쌍씩 돌려줘"
      ],
      "execution_count": 86,
      "outputs": [
        {
          "output_type": "execute_result",
          "data": {
            "text/plain": [
              "[(0, 1),\n",
              " (0, 2),\n",
              " (0, 3),\n",
              " (0, 4),\n",
              " (0, 5),\n",
              " (0, 6),\n",
              " (0, 7),\n",
              " (0, 8),\n",
              " (0, 9),\n",
              " (1, 2),\n",
              " (1, 3),\n",
              " (1, 4),\n",
              " (1, 5),\n",
              " (1, 6),\n",
              " (1, 7),\n",
              " (1, 8),\n",
              " (1, 9),\n",
              " (2, 3),\n",
              " (2, 4),\n",
              " (2, 5),\n",
              " (2, 6),\n",
              " (2, 7),\n",
              " (2, 8),\n",
              " (2, 9),\n",
              " (3, 4),\n",
              " (3, 5),\n",
              " (3, 6),\n",
              " (3, 7),\n",
              " (3, 8),\n",
              " (3, 9),\n",
              " (4, 5),\n",
              " (4, 6),\n",
              " (4, 7),\n",
              " (4, 8),\n",
              " (4, 9),\n",
              " (5, 6),\n",
              " (5, 7),\n",
              " (5, 8),\n",
              " (5, 9),\n",
              " (6, 7),\n",
              " (6, 8),\n",
              " (6, 9),\n",
              " (7, 8),\n",
              " (7, 9),\n",
              " (8, 9)]"
            ]
          },
          "metadata": {
            "tags": []
          },
          "execution_count": 86
        }
      ]
    },
    {
      "cell_type": "code",
      "metadata": {
        "colab": {
          "base_uri": "https://localhost:8080/"
        },
        "id": "7ifmkErhYFsy",
        "outputId": "4365283f-7f98-4818-bc87-3c5e636737ae"
      },
      "source": [
        "len(flat_possible_comb)"
      ],
      "execution_count": 95,
      "outputs": [
        {
          "output_type": "execute_result",
          "data": {
            "text/plain": [
              "1022"
            ]
          },
          "metadata": {
            "tags": []
          },
          "execution_count": 95
        }
      ]
    },
    {
      "cell_type": "code",
      "metadata": {
        "colab": {
          "base_uri": "https://localhost:8080/"
        },
        "id": "AE8vqs0UcThM",
        "outputId": "7fd4da4c-b9bc-4d7f-e5b6-c045d06064d0"
      },
      "source": [
        "pip install tqdm"
      ],
      "execution_count": 100,
      "outputs": [
        {
          "output_type": "stream",
          "text": [
            "Requirement already satisfied: tqdm in /usr/local/lib/python3.6/dist-packages (4.41.1)\n"
          ],
          "name": "stdout"
        }
      ]
    },
    {
      "cell_type": "code",
      "metadata": {
        "id": "_JaJYFA2bE1L"
      },
      "source": [
        "from tqdm import tqdm\n",
        "\n",
        "score_dict = {}\n",
        "for comb in flat_possible_comb:\n",
        "    diabetes_x = diabetes_train[:,comb] \n",
        "    diabetes_y = diabetes_target_zero_one\n",
        "    \n",
        "    x_train, x_test, y_train, y_test = model_selection.train_test_split(diabetes_x, diabetes_y, test_size=0.3, random_state=42)\n",
        "    model = linear_model.LogisticRegression(n_jobs=-1, multi_class='ovr')\n",
        "    model.fit(x_train, y_train)\n",
        "    model.predict(x_test)\n",
        "    pred_test = model.predict_proba(x_test)\n",
        "    ac_score =  accuracy_score(model.predict(x_test), y_test)\n",
        "    score_dict[comb] = ac_score\n",
        "    #딕셔너리에 키값넣는 방법\n",
        "      #ovr 하나랑 여러개 비교하는, "
      ],
      "execution_count": 108,
      "outputs": []
    },
    {
      "cell_type": "code",
      "metadata": {
        "colab": {
          "base_uri": "https://localhost:8080/"
        },
        "id": "6Mz5Rb0edIvt",
        "outputId": "9975d473-cee9-4e5f-ab2a-9547fec51e10"
      },
      "source": [
        "score_dict"
      ],
      "execution_count": 109,
      "outputs": [
        {
          "output_type": "execute_result",
          "data": {
            "text/plain": [
              "{(0,): 0.5639097744360902,\n",
              " (1,): 0.5639097744360902,\n",
              " (2,): 0.5789473684210527,\n",
              " (3,): 0.5789473684210527,\n",
              " (4,): 0.5639097744360902,\n",
              " (5,): 0.5639097744360902,\n",
              " (6,): 0.5639097744360902,\n",
              " (7,): 0.5714285714285714,\n",
              " (8,): 0.5714285714285714,\n",
              " (9,): 0.5714285714285714,\n",
              " (0, 1): 0.5639097744360902,\n",
              " (0, 2): 0.5864661654135338,\n",
              " (0, 3): 0.5939849624060151,\n",
              " (0, 4): 0.5639097744360902,\n",
              " (0, 5): 0.5639097744360902,\n",
              " (0, 6): 0.5714285714285714,\n",
              " (0, 7): 0.5789473684210527,\n",
              " (0, 8): 0.5864661654135338,\n",
              " (0, 9): 0.5714285714285714,\n",
              " (1, 2): 0.5789473684210527,\n",
              " (1, 3): 0.5789473684210527,\n",
              " (1, 4): 0.5639097744360902,\n",
              " (1, 5): 0.5639097744360902,\n",
              " (1, 6): 0.5639097744360902,\n",
              " (1, 7): 0.5714285714285714,\n",
              " (1, 8): 0.5714285714285714,\n",
              " (1, 9): 0.5714285714285714,\n",
              " (2, 3): 0.6466165413533834,\n",
              " (2, 4): 0.5939849624060151,\n",
              " (2, 5): 0.5864661654135338,\n",
              " (2, 6): 0.5939849624060151,\n",
              " (2, 7): 0.6015037593984962,\n",
              " (2, 8): 0.6466165413533834,\n",
              " (2, 9): 0.6165413533834586,\n",
              " (3, 4): 0.5864661654135338,\n",
              " (3, 5): 0.5789473684210527,\n",
              " (3, 6): 0.631578947368421,\n",
              " (3, 7): 0.631578947368421,\n",
              " (3, 8): 0.6466165413533834,\n",
              " (3, 9): 0.6240601503759399,\n",
              " (4, 5): 0.5639097744360902,\n",
              " (4, 6): 0.5639097744360902,\n",
              " (4, 7): 0.5714285714285714,\n",
              " (4, 8): 0.5939849624060151,\n",
              " (4, 9): 0.5789473684210527,\n",
              " (5, 6): 0.5639097744360902,\n",
              " (5, 7): 0.5714285714285714,\n",
              " (5, 8): 0.5939849624060151,\n",
              " (5, 9): 0.5789473684210527,\n",
              " (6, 7): 0.5714285714285714,\n",
              " (6, 8): 0.6090225563909775,\n",
              " (6, 9): 0.5864661654135338,\n",
              " (7, 8): 0.6240601503759399,\n",
              " (7, 9): 0.5939849624060151,\n",
              " (8, 9): 0.6390977443609023,\n",
              " (0, 1, 2): 0.5864661654135338,\n",
              " (0, 1, 3): 0.5939849624060151,\n",
              " (0, 1, 4): 0.5639097744360902,\n",
              " (0, 1, 5): 0.5639097744360902,\n",
              " (0, 1, 6): 0.5714285714285714,\n",
              " (0, 1, 7): 0.5864661654135338,\n",
              " (0, 1, 8): 0.5864661654135338,\n",
              " (0, 1, 9): 0.5714285714285714,\n",
              " (0, 2, 3): 0.6466165413533834,\n",
              " (0, 2, 4): 0.5939849624060151,\n",
              " (0, 2, 5): 0.5939849624060151,\n",
              " (0, 2, 6): 0.6165413533834586,\n",
              " (0, 2, 7): 0.6165413533834586,\n",
              " (0, 2, 8): 0.6466165413533834,\n",
              " (0, 2, 9): 0.6165413533834586,\n",
              " (0, 3, 4): 0.5939849624060151,\n",
              " (0, 3, 5): 0.5939849624060151,\n",
              " (0, 3, 6): 0.631578947368421,\n",
              " (0, 3, 7): 0.6015037593984962,\n",
              " (0, 3, 8): 0.6466165413533834,\n",
              " (0, 3, 9): 0.631578947368421,\n",
              " (0, 4, 5): 0.5639097744360902,\n",
              " (0, 4, 6): 0.5714285714285714,\n",
              " (0, 4, 7): 0.5714285714285714,\n",
              " (0, 4, 8): 0.6165413533834586,\n",
              " (0, 4, 9): 0.5939849624060151,\n",
              " (0, 5, 6): 0.5789473684210527,\n",
              " (0, 5, 7): 0.5789473684210527,\n",
              " (0, 5, 8): 0.5939849624060151,\n",
              " (0, 5, 9): 0.5864661654135338,\n",
              " (0, 6, 7): 0.5864661654135338,\n",
              " (0, 6, 8): 0.631578947368421,\n",
              " (0, 6, 9): 0.6090225563909775,\n",
              " (0, 7, 8): 0.631578947368421,\n",
              " (0, 7, 9): 0.6240601503759399,\n",
              " (0, 8, 9): 0.6541353383458647,\n",
              " (1, 2, 3): 0.6390977443609023,\n",
              " (1, 2, 4): 0.5939849624060151,\n",
              " (1, 2, 5): 0.5864661654135338,\n",
              " (1, 2, 6): 0.6015037593984962,\n",
              " (1, 2, 7): 0.6015037593984962,\n",
              " (1, 2, 8): 0.6541353383458647,\n",
              " (1, 2, 9): 0.6165413533834586,\n",
              " (1, 3, 4): 0.5939849624060151,\n",
              " (1, 3, 5): 0.5864661654135338,\n",
              " (1, 3, 6): 0.6240601503759399,\n",
              " (1, 3, 7): 0.631578947368421,\n",
              " (1, 3, 8): 0.6390977443609023,\n",
              " (1, 3, 9): 0.6240601503759399,\n",
              " (1, 4, 5): 0.5639097744360902,\n",
              " (1, 4, 6): 0.5639097744360902,\n",
              " (1, 4, 7): 0.5714285714285714,\n",
              " (1, 4, 8): 0.6015037593984962,\n",
              " (1, 4, 9): 0.5789473684210527,\n",
              " (1, 5, 6): 0.5639097744360902,\n",
              " (1, 5, 7): 0.5789473684210527,\n",
              " (1, 5, 8): 0.5939849624060151,\n",
              " (1, 5, 9): 0.5789473684210527,\n",
              " (1, 6, 7): 0.5789473684210527,\n",
              " (1, 6, 8): 0.5939849624060151,\n",
              " (1, 6, 9): 0.5864661654135338,\n",
              " (1, 7, 8): 0.6015037593984962,\n",
              " (1, 7, 9): 0.5939849624060151,\n",
              " (1, 8, 9): 0.6240601503759399,\n",
              " (2, 3, 4): 0.6616541353383458,\n",
              " (2, 3, 5): 0.6390977443609023,\n",
              " (2, 3, 6): 0.6616541353383458,\n",
              " (2, 3, 7): 0.6766917293233082,\n",
              " (2, 3, 8): 0.7218045112781954,\n",
              " (2, 3, 9): 0.706766917293233,\n",
              " (2, 4, 5): 0.6090225563909775,\n",
              " (2, 4, 6): 0.6090225563909775,\n",
              " (2, 4, 7): 0.6165413533834586,\n",
              " (2, 4, 8): 0.6691729323308271,\n",
              " (2, 4, 9): 0.631578947368421,\n",
              " (2, 5, 6): 0.5939849624060151,\n",
              " (2, 5, 7): 0.5939849624060151,\n",
              " (2, 5, 8): 0.6466165413533834,\n",
              " (2, 5, 9): 0.6240601503759399,\n",
              " (2, 6, 7): 0.6240601503759399,\n",
              " (2, 6, 8): 0.6616541353383458,\n",
              " (2, 6, 9): 0.6390977443609023,\n",
              " (2, 7, 8): 0.6842105263157895,\n",
              " (2, 7, 9): 0.6541353383458647,\n",
              " (2, 8, 9): 0.6917293233082706,\n",
              " (3, 4, 5): 0.5939849624060151,\n",
              " (3, 4, 6): 0.631578947368421,\n",
              " (3, 4, 7): 0.631578947368421,\n",
              " (3, 4, 8): 0.6842105263157895,\n",
              " (3, 4, 9): 0.631578947368421,\n",
              " (3, 5, 6): 0.6240601503759399,\n",
              " (3, 5, 7): 0.6240601503759399,\n",
              " (3, 5, 8): 0.6691729323308271,\n",
              " (3, 5, 9): 0.6240601503759399,\n",
              " (3, 6, 7): 0.6541353383458647,\n",
              " (3, 6, 8): 0.6616541353383458,\n",
              " (3, 6, 9): 0.6390977443609023,\n",
              " (3, 7, 8): 0.6766917293233082,\n",
              " (3, 7, 9): 0.6541353383458647,\n",
              " (3, 8, 9): 0.6766917293233082,\n",
              " (4, 5, 6): 0.5639097744360902,\n",
              " (4, 5, 7): 0.5639097744360902,\n",
              " (4, 5, 8): 0.6090225563909775,\n",
              " (4, 5, 9): 0.5864661654135338,\n",
              " (4, 6, 7): 0.5939849624060151,\n",
              " (4, 6, 8): 0.6090225563909775,\n",
              " (4, 6, 9): 0.6015037593984962,\n",
              " (4, 7, 8): 0.6165413533834586,\n",
              " (4, 7, 9): 0.6165413533834586,\n",
              " (4, 8, 9): 0.631578947368421,\n",
              " (5, 6, 7): 0.5789473684210527,\n",
              " (5, 6, 8): 0.5939849624060151,\n",
              " (5, 6, 9): 0.5939849624060151,\n",
              " (5, 7, 8): 0.6015037593984962,\n",
              " (5, 7, 9): 0.6015037593984962,\n",
              " (5, 8, 9): 0.631578947368421,\n",
              " (6, 7, 8): 0.6541353383458647,\n",
              " (6, 7, 9): 0.631578947368421,\n",
              " (6, 8, 9): 0.6541353383458647,\n",
              " (7, 8, 9): 0.6616541353383458,\n",
              " (0, 1, 2, 3): 0.6466165413533834,\n",
              " (0, 1, 2, 4): 0.6015037593984962,\n",
              " (0, 1, 2, 5): 0.6015037593984962,\n",
              " (0, 1, 2, 6): 0.6090225563909775,\n",
              " (0, 1, 2, 7): 0.6165413533834586,\n",
              " (0, 1, 2, 8): 0.631578947368421,\n",
              " (0, 1, 2, 9): 0.6240601503759399,\n",
              " (0, 1, 3, 4): 0.6015037593984962,\n",
              " (0, 1, 3, 5): 0.6015037593984962,\n",
              " (0, 1, 3, 6): 0.6165413533834586,\n",
              " (0, 1, 3, 7): 0.6090225563909775,\n",
              " (0, 1, 3, 8): 0.6541353383458647,\n",
              " (0, 1, 3, 9): 0.631578947368421,\n",
              " (0, 1, 4, 5): 0.5639097744360902,\n",
              " (0, 1, 4, 6): 0.5714285714285714,\n",
              " (0, 1, 4, 7): 0.5789473684210527,\n",
              " (0, 1, 4, 8): 0.6165413533834586,\n",
              " (0, 1, 4, 9): 0.5864661654135338,\n",
              " (0, 1, 5, 6): 0.5714285714285714,\n",
              " (0, 1, 5, 7): 0.5789473684210527,\n",
              " (0, 1, 5, 8): 0.5939849624060151,\n",
              " (0, 1, 5, 9): 0.5789473684210527,\n",
              " (0, 1, 6, 7): 0.5939849624060151,\n",
              " (0, 1, 6, 8): 0.631578947368421,\n",
              " (0, 1, 6, 9): 0.6090225563909775,\n",
              " (0, 1, 7, 8): 0.6390977443609023,\n",
              " (0, 1, 7, 9): 0.6240601503759399,\n",
              " (0, 1, 8, 9): 0.6541353383458647,\n",
              " (0, 2, 3, 4): 0.6390977443609023,\n",
              " (0, 2, 3, 5): 0.6390977443609023,\n",
              " (0, 2, 3, 6): 0.6766917293233082,\n",
              " (0, 2, 3, 7): 0.6917293233082706,\n",
              " (0, 2, 3, 8): 0.7142857142857143,\n",
              " (0, 2, 3, 9): 0.6992481203007519,\n",
              " (0, 2, 4, 5): 0.6165413533834586,\n",
              " (0, 2, 4, 6): 0.6165413533834586,\n",
              " (0, 2, 4, 7): 0.6165413533834586,\n",
              " (0, 2, 4, 8): 0.6766917293233082,\n",
              " (0, 2, 4, 9): 0.6466165413533834,\n",
              " (0, 2, 5, 6): 0.6165413533834586,\n",
              " (0, 2, 5, 7): 0.6165413533834586,\n",
              " (0, 2, 5, 8): 0.6766917293233082,\n",
              " (0, 2, 5, 9): 0.6466165413533834,\n",
              " (0, 2, 6, 7): 0.6240601503759399,\n",
              " (0, 2, 6, 8): 0.6541353383458647,\n",
              " (0, 2, 6, 9): 0.6466165413533834,\n",
              " (0, 2, 7, 8): 0.6766917293233082,\n",
              " (0, 2, 7, 9): 0.6691729323308271,\n",
              " (0, 2, 8, 9): 0.6917293233082706,\n",
              " (0, 3, 4, 5): 0.5939849624060151,\n",
              " (0, 3, 4, 6): 0.6240601503759399,\n",
              " (0, 3, 4, 7): 0.631578947368421,\n",
              " (0, 3, 4, 8): 0.6917293233082706,\n",
              " (0, 3, 4, 9): 0.631578947368421,\n",
              " (0, 3, 5, 6): 0.6090225563909775,\n",
              " (0, 3, 5, 7): 0.6165413533834586,\n",
              " (0, 3, 5, 8): 0.6766917293233082,\n",
              " (0, 3, 5, 9): 0.6240601503759399,\n",
              " (0, 3, 6, 7): 0.6691729323308271,\n",
              " (0, 3, 6, 8): 0.6917293233082706,\n",
              " (0, 3, 6, 9): 0.6466165413533834,\n",
              " (0, 3, 7, 8): 0.6842105263157895,\n",
              " (0, 3, 7, 9): 0.6541353383458647,\n",
              " (0, 3, 8, 9): 0.6992481203007519,\n",
              " (0, 4, 5, 6): 0.5714285714285714,\n",
              " (0, 4, 5, 7): 0.6015037593984962,\n",
              " (0, 4, 5, 8): 0.6240601503759399,\n",
              " (0, 4, 5, 9): 0.6015037593984962,\n",
              " (0, 4, 6, 7): 0.6015037593984962,\n",
              " (0, 4, 6, 8): 0.6466165413533834,\n",
              " (0, 4, 6, 9): 0.631578947368421,\n",
              " (0, 4, 7, 8): 0.6466165413533834,\n",
              " (0, 4, 7, 9): 0.6240601503759399,\n",
              " (0, 4, 8, 9): 0.6616541353383458,\n",
              " (0, 5, 6, 7): 0.5939849624060151,\n",
              " (0, 5, 6, 8): 0.631578947368421,\n",
              " (0, 5, 6, 9): 0.6240601503759399,\n",
              " (0, 5, 7, 8): 0.6466165413533834,\n",
              " (0, 5, 7, 9): 0.6240601503759399,\n",
              " (0, 5, 8, 9): 0.6616541353383458,\n",
              " (0, 6, 7, 8): 0.6466165413533834,\n",
              " (0, 6, 7, 9): 0.6390977443609023,\n",
              " (0, 6, 8, 9): 0.6691729323308271,\n",
              " (0, 7, 8, 9): 0.6766917293233082,\n",
              " (1, 2, 3, 4): 0.6616541353383458,\n",
              " (1, 2, 3, 5): 0.6390977443609023,\n",
              " (1, 2, 3, 6): 0.6616541353383458,\n",
              " (1, 2, 3, 7): 0.6691729323308271,\n",
              " (1, 2, 3, 8): 0.7293233082706767,\n",
              " (1, 2, 3, 9): 0.6917293233082706,\n",
              " (1, 2, 4, 5): 0.6015037593984962,\n",
              " (1, 2, 4, 6): 0.6015037593984962,\n",
              " (1, 2, 4, 7): 0.6165413533834586,\n",
              " (1, 2, 4, 8): 0.6691729323308271,\n",
              " (1, 2, 4, 9): 0.631578947368421,\n",
              " (1, 2, 5, 6): 0.5939849624060151,\n",
              " (1, 2, 5, 7): 0.5939849624060151,\n",
              " (1, 2, 5, 8): 0.6466165413533834,\n",
              " (1, 2, 5, 9): 0.6240601503759399,\n",
              " (1, 2, 6, 7): 0.6165413533834586,\n",
              " (1, 2, 6, 8): 0.6466165413533834,\n",
              " (1, 2, 6, 9): 0.631578947368421,\n",
              " (1, 2, 7, 8): 0.6842105263157895,\n",
              " (1, 2, 7, 9): 0.6390977443609023,\n",
              " (1, 2, 8, 9): 0.6842105263157895,\n",
              " (1, 3, 4, 5): 0.6015037593984962,\n",
              " (1, 3, 4, 6): 0.6390977443609023,\n",
              " (1, 3, 4, 7): 0.6165413533834586,\n",
              " (1, 3, 4, 8): 0.6766917293233082,\n",
              " (1, 3, 4, 9): 0.631578947368421,\n",
              " (1, 3, 5, 6): 0.6240601503759399,\n",
              " (1, 3, 5, 7): 0.6240601503759399,\n",
              " (1, 3, 5, 8): 0.6691729323308271,\n",
              " (1, 3, 5, 9): 0.6240601503759399,\n",
              " (1, 3, 6, 7): 0.6466165413533834,\n",
              " (1, 3, 6, 8): 0.6616541353383458,\n",
              " (1, 3, 6, 9): 0.631578947368421,\n",
              " (1, 3, 7, 8): 0.6691729323308271,\n",
              " (1, 3, 7, 9): 0.6541353383458647,\n",
              " (1, 3, 8, 9): 0.6691729323308271,\n",
              " (1, 4, 5, 6): 0.5639097744360902,\n",
              " (1, 4, 5, 7): 0.5714285714285714,\n",
              " (1, 4, 5, 8): 0.6090225563909775,\n",
              " (1, 4, 5, 9): 0.5864661654135338,\n",
              " (1, 4, 6, 7): 0.5789473684210527,\n",
              " (1, 4, 6, 8): 0.6015037593984962,\n",
              " (1, 4, 6, 9): 0.5939849624060151,\n",
              " (1, 4, 7, 8): 0.6090225563909775,\n",
              " (1, 4, 7, 9): 0.6090225563909775,\n",
              " (1, 4, 8, 9): 0.631578947368421,\n",
              " (1, 5, 6, 7): 0.5789473684210527,\n",
              " (1, 5, 6, 8): 0.5939849624060151,\n",
              " (1, 5, 6, 9): 0.6015037593984962,\n",
              " (1, 5, 7, 8): 0.5939849624060151,\n",
              " (1, 5, 7, 9): 0.5939849624060151,\n",
              " (1, 5, 8, 9): 0.6240601503759399,\n",
              " (1, 6, 7, 8): 0.631578947368421,\n",
              " (1, 6, 7, 9): 0.6240601503759399,\n",
              " (1, 6, 8, 9): 0.6541353383458647,\n",
              " (1, 7, 8, 9): 0.6691729323308271,\n",
              " (2, 3, 4, 5): 0.6691729323308271,\n",
              " (2, 3, 4, 6): 0.6766917293233082,\n",
              " (2, 3, 4, 7): 0.6917293233082706,\n",
              " (2, 3, 4, 8): 0.7293233082706767,\n",
              " (2, 3, 4, 9): 0.6842105263157895,\n",
              " (2, 3, 5, 6): 0.6691729323308271,\n",
              " (2, 3, 5, 7): 0.6917293233082706,\n",
              " (2, 3, 5, 8): 0.7293233082706767,\n",
              " (2, 3, 5, 9): 0.6917293233082706,\n",
              " (2, 3, 6, 7): 0.6691729323308271,\n",
              " (2, 3, 6, 8): 0.7293233082706767,\n",
              " (2, 3, 6, 9): 0.6992481203007519,\n",
              " (2, 3, 7, 8): 0.7142857142857143,\n",
              " (2, 3, 7, 9): 0.6842105263157895,\n",
              " (2, 3, 8, 9): 0.7293233082706767,\n",
              " (2, 4, 5, 6): 0.6240601503759399,\n",
              " (2, 4, 5, 7): 0.6390977443609023,\n",
              " (2, 4, 5, 8): 0.6541353383458647,\n",
              " (2, 4, 5, 9): 0.631578947368421,\n",
              " (2, 4, 6, 7): 0.631578947368421,\n",
              " (2, 4, 6, 8): 0.6766917293233082,\n",
              " (2, 4, 6, 9): 0.6541353383458647,\n",
              " (2, 4, 7, 8): 0.6842105263157895,\n",
              " (2, 4, 7, 9): 0.6466165413533834,\n",
              " (2, 4, 8, 9): 0.6917293233082706,\n",
              " (2, 5, 6, 7): 0.6240601503759399,\n",
              " (2, 5, 6, 8): 0.6691729323308271,\n",
              " (2, 5, 6, 9): 0.6541353383458647,\n",
              " (2, 5, 7, 8): 0.6842105263157895,\n",
              " (2, 5, 7, 9): 0.6541353383458647,\n",
              " (2, 5, 8, 9): 0.6917293233082706,\n",
              " (2, 6, 7, 8): 0.6917293233082706,\n",
              " (2, 6, 7, 9): 0.6616541353383458,\n",
              " (2, 6, 8, 9): 0.6766917293233082,\n",
              " (2, 7, 8, 9): 0.6842105263157895,\n",
              " (3, 4, 5, 6): 0.6165413533834586,\n",
              " (3, 4, 5, 7): 0.6240601503759399,\n",
              " (3, 4, 5, 8): 0.6691729323308271,\n",
              " (3, 4, 5, 9): 0.6240601503759399,\n",
              " (3, 4, 6, 7): 0.6466165413533834,\n",
              " (3, 4, 6, 8): 0.6842105263157895,\n",
              " (3, 4, 6, 9): 0.6541353383458647,\n",
              " (3, 4, 7, 8): 0.6842105263157895,\n",
              " (3, 4, 7, 9): 0.6691729323308271,\n",
              " (3, 4, 8, 9): 0.706766917293233,\n",
              " (3, 5, 6, 7): 0.6390977443609023,\n",
              " (3, 5, 6, 8): 0.6766917293233082,\n",
              " (3, 5, 6, 9): 0.6390977443609023,\n",
              " (3, 5, 7, 8): 0.6766917293233082,\n",
              " (3, 5, 7, 9): 0.6541353383458647,\n",
              " (3, 5, 8, 9): 0.6842105263157895,\n",
              " (3, 6, 7, 8): 0.6992481203007519,\n",
              " (3, 6, 7, 9): 0.6691729323308271,\n",
              " (3, 6, 8, 9): 0.7293233082706767,\n",
              " (3, 7, 8, 9): 0.6917293233082706,\n",
              " (4, 5, 6, 7): 0.6015037593984962,\n",
              " (4, 5, 6, 8): 0.6090225563909775,\n",
              " (4, 5, 6, 9): 0.6165413533834586,\n",
              " (4, 5, 7, 8): 0.6240601503759399,\n",
              " (4, 5, 7, 9): 0.631578947368421,\n",
              " (4, 5, 8, 9): 0.6466165413533834,\n",
              " (4, 6, 7, 8): 0.6466165413533834,\n",
              " (4, 6, 7, 9): 0.6390977443609023,\n",
              " (4, 6, 8, 9): 0.6616541353383458,\n",
              " (4, 7, 8, 9): 0.6766917293233082,\n",
              " (5, 6, 7, 8): 0.6541353383458647,\n",
              " (5, 6, 7, 9): 0.631578947368421,\n",
              " (5, 6, 8, 9): 0.6616541353383458,\n",
              " (5, 7, 8, 9): 0.6842105263157895,\n",
              " (6, 7, 8, 9): 0.6766917293233082,\n",
              " (0, 1, 2, 3, 4): 0.6541353383458647,\n",
              " (0, 1, 2, 3, 5): 0.6466165413533834,\n",
              " (0, 1, 2, 3, 6): 0.6616541353383458,\n",
              " (0, 1, 2, 3, 7): 0.6766917293233082,\n",
              " (0, 1, 2, 3, 8): 0.706766917293233,\n",
              " (0, 1, 2, 3, 9): 0.6842105263157895,\n",
              " (0, 1, 2, 4, 5): 0.6090225563909775,\n",
              " (0, 1, 2, 4, 6): 0.6090225563909775,\n",
              " (0, 1, 2, 4, 7): 0.6240601503759399,\n",
              " (0, 1, 2, 4, 8): 0.6842105263157895,\n",
              " (0, 1, 2, 4, 9): 0.6466165413533834,\n",
              " (0, 1, 2, 5, 6): 0.6090225563909775,\n",
              " (0, 1, 2, 5, 7): 0.6090225563909775,\n",
              " (0, 1, 2, 5, 8): 0.6766917293233082,\n",
              " (0, 1, 2, 5, 9): 0.6466165413533834,\n",
              " (0, 1, 2, 6, 7): 0.6240601503759399,\n",
              " (0, 1, 2, 6, 8): 0.6616541353383458,\n",
              " (0, 1, 2, 6, 9): 0.6466165413533834,\n",
              " (0, 1, 2, 7, 8): 0.6691729323308271,\n",
              " (0, 1, 2, 7, 9): 0.6541353383458647,\n",
              " (0, 1, 2, 8, 9): 0.6992481203007519,\n",
              " (0, 1, 3, 4, 5): 0.5939849624060151,\n",
              " (0, 1, 3, 4, 6): 0.631578947368421,\n",
              " (0, 1, 3, 4, 7): 0.6240601503759399,\n",
              " (0, 1, 3, 4, 8): 0.6766917293233082,\n",
              " (0, 1, 3, 4, 9): 0.6240601503759399,\n",
              " (0, 1, 3, 5, 6): 0.6240601503759399,\n",
              " (0, 1, 3, 5, 7): 0.6240601503759399,\n",
              " (0, 1, 3, 5, 8): 0.6616541353383458,\n",
              " (0, 1, 3, 5, 9): 0.6165413533834586,\n",
              " (0, 1, 3, 6, 7): 0.6616541353383458,\n",
              " (0, 1, 3, 6, 8): 0.6766917293233082,\n",
              " (0, 1, 3, 6, 9): 0.6390977443609023,\n",
              " (0, 1, 3, 7, 8): 0.6691729323308271,\n",
              " (0, 1, 3, 7, 9): 0.6616541353383458,\n",
              " (0, 1, 3, 8, 9): 0.6992481203007519,\n",
              " (0, 1, 4, 5, 6): 0.5714285714285714,\n",
              " (0, 1, 4, 5, 7): 0.5939849624060151,\n",
              " (0, 1, 4, 5, 8): 0.631578947368421,\n",
              " (0, 1, 4, 5, 9): 0.5939849624060151,\n",
              " (0, 1, 4, 6, 7): 0.6015037593984962,\n",
              " (0, 1, 4, 6, 8): 0.631578947368421,\n",
              " (0, 1, 4, 6, 9): 0.6240601503759399,\n",
              " (0, 1, 4, 7, 8): 0.6466165413533834,\n",
              " (0, 1, 4, 7, 9): 0.6240601503759399,\n",
              " (0, 1, 4, 8, 9): 0.6616541353383458,\n",
              " (0, 1, 5, 6, 7): 0.6015037593984962,\n",
              " (0, 1, 5, 6, 8): 0.6240601503759399,\n",
              " (0, 1, 5, 6, 9): 0.6165413533834586,\n",
              " (0, 1, 5, 7, 8): 0.6466165413533834,\n",
              " (0, 1, 5, 7, 9): 0.6240601503759399,\n",
              " (0, 1, 5, 8, 9): 0.6541353383458647,\n",
              " (0, 1, 6, 7, 8): 0.6616541353383458,\n",
              " (0, 1, 6, 7, 9): 0.631578947368421,\n",
              " (0, 1, 6, 8, 9): 0.6766917293233082,\n",
              " (0, 1, 7, 8, 9): 0.6766917293233082,\n",
              " (0, 2, 3, 4, 5): 0.6541353383458647,\n",
              " (0, 2, 3, 4, 6): 0.6842105263157895,\n",
              " (0, 2, 3, 4, 7): 0.6766917293233082,\n",
              " (0, 2, 3, 4, 8): 0.7218045112781954,\n",
              " (0, 2, 3, 4, 9): 0.6917293233082706,\n",
              " (0, 2, 3, 5, 6): 0.6842105263157895,\n",
              " (0, 2, 3, 5, 7): 0.6766917293233082,\n",
              " (0, 2, 3, 5, 8): 0.7142857142857143,\n",
              " (0, 2, 3, 5, 9): 0.6917293233082706,\n",
              " (0, 2, 3, 6, 7): 0.6616541353383458,\n",
              " (0, 2, 3, 6, 8): 0.7218045112781954,\n",
              " (0, 2, 3, 6, 9): 0.6842105263157895,\n",
              " (0, 2, 3, 7, 8): 0.7293233082706767,\n",
              " (0, 2, 3, 7, 9): 0.6842105263157895,\n",
              " (0, 2, 3, 8, 9): 0.7368421052631579,\n",
              " (0, 2, 4, 5, 6): 0.6240601503759399,\n",
              " (0, 2, 4, 5, 7): 0.6390977443609023,\n",
              " (0, 2, 4, 5, 8): 0.6766917293233082,\n",
              " (0, 2, 4, 5, 9): 0.6466165413533834,\n",
              " (0, 2, 4, 6, 7): 0.631578947368421,\n",
              " (0, 2, 4, 6, 8): 0.6691729323308271,\n",
              " (0, 2, 4, 6, 9): 0.6616541353383458,\n",
              " (0, 2, 4, 7, 8): 0.6992481203007519,\n",
              " (0, 2, 4, 7, 9): 0.6616541353383458,\n",
              " (0, 2, 4, 8, 9): 0.706766917293233,\n",
              " (0, 2, 5, 6, 7): 0.631578947368421,\n",
              " (0, 2, 5, 6, 8): 0.6691729323308271,\n",
              " (0, 2, 5, 6, 9): 0.6616541353383458,\n",
              " (0, 2, 5, 7, 8): 0.6917293233082706,\n",
              " (0, 2, 5, 7, 9): 0.6616541353383458,\n",
              " (0, 2, 5, 8, 9): 0.6917293233082706,\n",
              " (0, 2, 6, 7, 8): 0.6691729323308271,\n",
              " (0, 2, 6, 7, 9): 0.6766917293233082,\n",
              " (0, 2, 6, 8, 9): 0.6691729323308271,\n",
              " (0, 2, 7, 8, 9): 0.6917293233082706,\n",
              " (0, 3, 4, 5, 6): 0.631578947368421,\n",
              " (0, 3, 4, 5, 7): 0.6390977443609023,\n",
              " (0, 3, 4, 5, 8): 0.6766917293233082,\n",
              " (0, 3, 4, 5, 9): 0.6466165413533834,\n",
              " (0, 3, 4, 6, 7): 0.6390977443609023,\n",
              " (0, 3, 4, 6, 8): 0.6917293233082706,\n",
              " (0, 3, 4, 6, 9): 0.631578947368421,\n",
              " (0, 3, 4, 7, 8): 0.6992481203007519,\n",
              " (0, 3, 4, 7, 9): 0.6616541353383458,\n",
              " (0, 3, 4, 8, 9): 0.706766917293233,\n",
              " (0, 3, 5, 6, 7): 0.6466165413533834,\n",
              " (0, 3, 5, 6, 8): 0.6842105263157895,\n",
              " (0, 3, 5, 6, 9): 0.6541353383458647,\n",
              " (0, 3, 5, 7, 8): 0.6842105263157895,\n",
              " (0, 3, 5, 7, 9): 0.6616541353383458,\n",
              " (0, 3, 5, 8, 9): 0.6992481203007519,\n",
              " (0, 3, 6, 7, 8): 0.6992481203007519,\n",
              " (0, 3, 6, 7, 9): 0.6691729323308271,\n",
              " (0, 3, 6, 8, 9): 0.706766917293233,\n",
              " (0, 3, 7, 8, 9): 0.7293233082706767,\n",
              " (0, 4, 5, 6, 7): 0.6165413533834586,\n",
              " (0, 4, 5, 6, 8): 0.6541353383458647,\n",
              " (0, 4, 5, 6, 9): 0.6240601503759399,\n",
              " (0, 4, 5, 7, 8): 0.6466165413533834,\n",
              " (0, 4, 5, 7, 9): 0.6390977443609023,\n",
              " (0, 4, 5, 8, 9): 0.6616541353383458,\n",
              " (0, 4, 6, 7, 8): 0.6541353383458647,\n",
              " (0, 4, 6, 7, 9): 0.631578947368421,\n",
              " (0, 4, 6, 8, 9): 0.6766917293233082,\n",
              " (0, 4, 7, 8, 9): 0.6842105263157895,\n",
              " (0, 5, 6, 7, 8): 0.6691729323308271,\n",
              " (0, 5, 6, 7, 9): 0.631578947368421,\n",
              " (0, 5, 6, 8, 9): 0.6766917293233082,\n",
              " (0, 5, 7, 8, 9): 0.6766917293233082,\n",
              " (0, 6, 7, 8, 9): 0.6917293233082706,\n",
              " (1, 2, 3, 4, 5): 0.6616541353383458,\n",
              " (1, 2, 3, 4, 6): 0.6842105263157895,\n",
              " (1, 2, 3, 4, 7): 0.6766917293233082,\n",
              " (1, 2, 3, 4, 8): 0.7142857142857143,\n",
              " (1, 2, 3, 4, 9): 0.6842105263157895,\n",
              " (1, 2, 3, 5, 6): 0.6691729323308271,\n",
              " (1, 2, 3, 5, 7): 0.6842105263157895,\n",
              " (1, 2, 3, 5, 8): 0.7218045112781954,\n",
              " (1, 2, 3, 5, 9): 0.6842105263157895,\n",
              " (1, 2, 3, 6, 7): 0.6766917293233082,\n",
              " (1, 2, 3, 6, 8): 0.7218045112781954,\n",
              " (1, 2, 3, 6, 9): 0.6917293233082706,\n",
              " (1, 2, 3, 7, 8): 0.7142857142857143,\n",
              " (1, 2, 3, 7, 9): 0.6842105263157895,\n",
              " (1, 2, 3, 8, 9): 0.7293233082706767,\n",
              " (1, 2, 4, 5, 6): 0.6240601503759399,\n",
              " (1, 2, 4, 5, 7): 0.6240601503759399,\n",
              " (1, 2, 4, 5, 8): 0.6691729323308271,\n",
              " (1, 2, 4, 5, 9): 0.631578947368421,\n",
              " (1, 2, 4, 6, 7): 0.6240601503759399,\n",
              " (1, 2, 4, 6, 8): 0.6616541353383458,\n",
              " (1, 2, 4, 6, 9): 0.6466165413533834,\n",
              " (1, 2, 4, 7, 8): 0.6992481203007519,\n",
              " (1, 2, 4, 7, 9): 0.6466165413533834,\n",
              " (1, 2, 4, 8, 9): 0.6766917293233082,\n",
              " (1, 2, 5, 6, 7): 0.6090225563909775,\n",
              " (1, 2, 5, 6, 8): 0.6541353383458647,\n",
              " (1, 2, 5, 6, 9): 0.6466165413533834,\n",
              " (1, 2, 5, 7, 8): 0.6766917293233082,\n",
              " (1, 2, 5, 7, 9): 0.6466165413533834,\n",
              " (1, 2, 5, 8, 9): 0.6917293233082706,\n",
              " (1, 2, 6, 7, 8): 0.6766917293233082,\n",
              " (1, 2, 6, 7, 9): 0.6616541353383458,\n",
              " (1, 2, 6, 8, 9): 0.6766917293233082,\n",
              " (1, 2, 7, 8, 9): 0.6842105263157895,\n",
              " (1, 3, 4, 5, 6): 0.6165413533834586,\n",
              " (1, 3, 4, 5, 7): 0.631578947368421,\n",
              " (1, 3, 4, 5, 8): 0.6766917293233082,\n",
              " (1, 3, 4, 5, 9): 0.631578947368421,\n",
              " (1, 3, 4, 6, 7): 0.6466165413533834,\n",
              " (1, 3, 4, 6, 8): 0.6766917293233082,\n",
              " (1, 3, 4, 6, 9): 0.6466165413533834,\n",
              " (1, 3, 4, 7, 8): 0.6766917293233082,\n",
              " (1, 3, 4, 7, 9): 0.6691729323308271,\n",
              " (1, 3, 4, 8, 9): 0.6691729323308271,\n",
              " (1, 3, 5, 6, 7): 0.6466165413533834,\n",
              " (1, 3, 5, 6, 8): 0.6842105263157895,\n",
              " (1, 3, 5, 6, 9): 0.631578947368421,\n",
              " (1, 3, 5, 7, 8): 0.6766917293233082,\n",
              " (1, 3, 5, 7, 9): 0.6691729323308271,\n",
              " (1, 3, 5, 8, 9): 0.6691729323308271,\n",
              " (1, 3, 6, 7, 8): 0.6917293233082706,\n",
              " (1, 3, 6, 7, 9): 0.6616541353383458,\n",
              " (1, 3, 6, 8, 9): 0.7142857142857143,\n",
              " (1, 3, 7, 8, 9): 0.6917293233082706,\n",
              " (1, 4, 5, 6, 7): 0.5864661654135338,\n",
              " (1, 4, 5, 6, 8): 0.6015037593984962,\n",
              " (1, 4, 5, 6, 9): 0.6090225563909775,\n",
              " (1, 4, 5, 7, 8): 0.6240601503759399,\n",
              " (1, 4, 5, 7, 9): 0.6090225563909775,\n",
              " (1, 4, 5, 8, 9): 0.6390977443609023,\n",
              " (1, 4, 6, 7, 8): 0.6390977443609023,\n",
              " (1, 4, 6, 7, 9): 0.6390977443609023,\n",
              " (1, 4, 6, 8, 9): 0.6616541353383458,\n",
              " (1, 4, 7, 8, 9): 0.6691729323308271,\n",
              " (1, 5, 6, 7, 8): 0.6541353383458647,\n",
              " (1, 5, 6, 7, 9): 0.631578947368421,\n",
              " (1, 5, 6, 8, 9): 0.6691729323308271,\n",
              " (1, 5, 7, 8, 9): 0.6691729323308271,\n",
              " (1, 6, 7, 8, 9): 0.6842105263157895,\n",
              " (2, 3, 4, 5, 6): 0.6842105263157895,\n",
              " (2, 3, 4, 5, 7): 0.6691729323308271,\n",
              " (2, 3, 4, 5, 8): 0.7142857142857143,\n",
              " (2, 3, 4, 5, 9): 0.6766917293233082,\n",
              " (2, 3, 4, 6, 7): 0.6842105263157895,\n",
              " (2, 3, 4, 6, 8): 0.7368421052631579,\n",
              " (2, 3, 4, 6, 9): 0.6917293233082706,\n",
              " (2, 3, 4, 7, 8): 0.7218045112781954,\n",
              " (2, 3, 4, 7, 9): 0.6917293233082706,\n",
              " (2, 3, 4, 8, 9): 0.7368421052631579,\n",
              " (2, 3, 5, 6, 7): 0.6766917293233082,\n",
              " (2, 3, 5, 6, 8): 0.7293233082706767,\n",
              " (2, 3, 5, 6, 9): 0.6992481203007519,\n",
              " (2, 3, 5, 7, 8): 0.7142857142857143,\n",
              " (2, 3, 5, 7, 9): 0.6917293233082706,\n",
              " (2, 3, 5, 8, 9): 0.7368421052631579,\n",
              " (2, 3, 6, 7, 8): 0.7293233082706767,\n",
              " (2, 3, 6, 7, 9): 0.7142857142857143,\n",
              " (2, 3, 6, 8, 9): 0.7218045112781954,\n",
              " (2, 3, 7, 8, 9): 0.7218045112781954,\n",
              " (2, 4, 5, 6, 7): 0.6466165413533834,\n",
              " (2, 4, 5, 6, 8): 0.6766917293233082,\n",
              " (2, 4, 5, 6, 9): 0.6466165413533834,\n",
              " (2, 4, 5, 7, 8): 0.6917293233082706,\n",
              " (2, 4, 5, 7, 9): 0.6616541353383458,\n",
              " (2, 4, 5, 8, 9): 0.6842105263157895,\n",
              " (2, 4, 6, 7, 8): 0.706766917293233,\n",
              " (2, 4, 6, 7, 9): 0.6616541353383458,\n",
              " (2, 4, 6, 8, 9): 0.6917293233082706,\n",
              " (2, 4, 7, 8, 9): 0.6842105263157895,\n",
              " (2, 5, 6, 7, 8): 0.706766917293233,\n",
              " (2, 5, 6, 7, 9): 0.6616541353383458,\n",
              " (2, 5, 6, 8, 9): 0.6842105263157895,\n",
              " (2, 5, 7, 8, 9): 0.6842105263157895,\n",
              " (2, 6, 7, 8, 9): 0.6766917293233082,\n",
              " (3, 4, 5, 6, 7): 0.6390977443609023,\n",
              " (3, 4, 5, 6, 8): 0.6917293233082706,\n",
              " (3, 4, 5, 6, 9): 0.6541353383458647,\n",
              " (3, 4, 5, 7, 8): 0.6766917293233082,\n",
              " (3, 4, 5, 7, 9): 0.6691729323308271,\n",
              " (3, 4, 5, 8, 9): 0.706766917293233,\n",
              " (3, 4, 6, 7, 8): 0.6842105263157895,\n",
              " (3, 4, 6, 7, 9): 0.6842105263157895,\n",
              " (3, 4, 6, 8, 9): 0.7142857142857143,\n",
              " (3, 4, 7, 8, 9): 0.6766917293233082,\n",
              " (3, 5, 6, 7, 8): 0.6992481203007519,\n",
              " (3, 5, 6, 7, 9): 0.6766917293233082,\n",
              " (3, 5, 6, 8, 9): 0.7142857142857143,\n",
              " (3, 5, 7, 8, 9): 0.6842105263157895,\n",
              " (3, 6, 7, 8, 9): 0.706766917293233,\n",
              " (4, 5, 6, 7, 8): 0.6541353383458647,\n",
              " (4, 5, 6, 7, 9): 0.6390977443609023,\n",
              " (4, 5, 6, 8, 9): 0.6691729323308271,\n",
              " (4, 5, 7, 8, 9): 0.6766917293233082,\n",
              " (4, 6, 7, 8, 9): 0.6917293233082706,\n",
              " (5, 6, 7, 8, 9): 0.6842105263157895,\n",
              " (0, 1, 2, 3, 4, 5): 0.6616541353383458,\n",
              " (0, 1, 2, 3, 4, 6): 0.6766917293233082,\n",
              " (0, 1, 2, 3, 4, 7): 0.6766917293233082,\n",
              " (0, 1, 2, 3, 4, 8): 0.7293233082706767,\n",
              " (0, 1, 2, 3, 4, 9): 0.6917293233082706,\n",
              " (0, 1, 2, 3, 5, 6): 0.6766917293233082,\n",
              " (0, 1, 2, 3, 5, 7): 0.6766917293233082,\n",
              " (0, 1, 2, 3, 5, 8): 0.7142857142857143,\n",
              " (0, 1, 2, 3, 5, 9): 0.6917293233082706,\n",
              " (0, 1, 2, 3, 6, 7): 0.6616541353383458,\n",
              " (0, 1, 2, 3, 6, 8): 0.7218045112781954,\n",
              " (0, 1, 2, 3, 6, 9): 0.6917293233082706,\n",
              " (0, 1, 2, 3, 7, 8): 0.7293233082706767,\n",
              " (0, 1, 2, 3, 7, 9): 0.6842105263157895,\n",
              " (0, 1, 2, 3, 8, 9): 0.7443609022556391,\n",
              " (0, 1, 2, 4, 5, 6): 0.6240601503759399,\n",
              " (0, 1, 2, 4, 5, 7): 0.631578947368421,\n",
              " (0, 1, 2, 4, 5, 8): 0.6766917293233082,\n",
              " (0, 1, 2, 4, 5, 9): 0.6466165413533834,\n",
              " (0, 1, 2, 4, 6, 7): 0.631578947368421,\n",
              " (0, 1, 2, 4, 6, 8): 0.6691729323308271,\n",
              " (0, 1, 2, 4, 6, 9): 0.6616541353383458,\n",
              " (0, 1, 2, 4, 7, 8): 0.6992481203007519,\n",
              " (0, 1, 2, 4, 7, 9): 0.6616541353383458,\n",
              " (0, 1, 2, 4, 8, 9): 0.706766917293233,\n",
              " (0, 1, 2, 5, 6, 7): 0.6240601503759399,\n",
              " (0, 1, 2, 5, 6, 8): 0.6691729323308271,\n",
              " (0, 1, 2, 5, 6, 9): 0.6541353383458647,\n",
              " (0, 1, 2, 5, 7, 8): 0.6766917293233082,\n",
              " (0, 1, 2, 5, 7, 9): 0.6616541353383458,\n",
              " (0, 1, 2, 5, 8, 9): 0.6917293233082706,\n",
              " (0, 1, 2, 6, 7, 8): 0.6842105263157895,\n",
              " (0, 1, 2, 6, 7, 9): 0.6691729323308271,\n",
              " (0, 1, 2, 6, 8, 9): 0.6691729323308271,\n",
              " (0, 1, 2, 7, 8, 9): 0.6842105263157895,\n",
              " (0, 1, 3, 4, 5, 6): 0.6240601503759399,\n",
              " (0, 1, 3, 4, 5, 7): 0.631578947368421,\n",
              " (0, 1, 3, 4, 5, 8): 0.6842105263157895,\n",
              " (0, 1, 3, 4, 5, 9): 0.6390977443609023,\n",
              " (0, 1, 3, 4, 6, 7): 0.6541353383458647,\n",
              " (0, 1, 3, 4, 6, 8): 0.6842105263157895,\n",
              " (0, 1, 3, 4, 6, 9): 0.6390977443609023,\n",
              " (0, 1, 3, 4, 7, 8): 0.6842105263157895,\n",
              " (0, 1, 3, 4, 7, 9): 0.6616541353383458,\n",
              " (0, 1, 3, 4, 8, 9): 0.6917293233082706,\n",
              " (0, 1, 3, 5, 6, 7): 0.6466165413533834,\n",
              " (0, 1, 3, 5, 6, 8): 0.6691729323308271,\n",
              " (0, 1, 3, 5, 6, 9): 0.631578947368421,\n",
              " (0, 1, 3, 5, 7, 8): 0.6766917293233082,\n",
              " (0, 1, 3, 5, 7, 9): 0.6541353383458647,\n",
              " (0, 1, 3, 5, 8, 9): 0.6842105263157895,\n",
              " (0, 1, 3, 6, 7, 8): 0.6917293233082706,\n",
              " (0, 1, 3, 6, 7, 9): 0.6766917293233082,\n",
              " (0, 1, 3, 6, 8, 9): 0.7142857142857143,\n",
              " (0, 1, 3, 7, 8, 9): 0.7142857142857143,\n",
              " (0, 1, 4, 5, 6, 7): 0.6090225563909775,\n",
              " (0, 1, 4, 5, 6, 8): 0.6466165413533834,\n",
              " (0, 1, 4, 5, 6, 9): 0.631578947368421,\n",
              " (0, 1, 4, 5, 7, 8): 0.6466165413533834,\n",
              " (0, 1, 4, 5, 7, 9): 0.6390977443609023,\n",
              " (0, 1, 4, 5, 8, 9): 0.6616541353383458,\n",
              " (0, 1, 4, 6, 7, 8): 0.6616541353383458,\n",
              " (0, 1, 4, 6, 7, 9): 0.6616541353383458,\n",
              " (0, 1, 4, 6, 8, 9): 0.6766917293233082,\n",
              " (0, 1, 4, 7, 8, 9): 0.6766917293233082,\n",
              " (0, 1, 5, 6, 7, 8): 0.6616541353383458,\n",
              " (0, 1, 5, 6, 7, 9): 0.6466165413533834,\n",
              " (0, 1, 5, 6, 8, 9): 0.6766917293233082,\n",
              " (0, 1, 5, 7, 8, 9): 0.6766917293233082,\n",
              " (0, 1, 6, 7, 8, 9): 0.6992481203007519,\n",
              " (0, 2, 3, 4, 5, 6): 0.6917293233082706,\n",
              " (0, 2, 3, 4, 5, 7): 0.6691729323308271,\n",
              " (0, 2, 3, 4, 5, 8): 0.7293233082706767,\n",
              " (0, 2, 3, 4, 5, 9): 0.6992481203007519,\n",
              " (0, 2, 3, 4, 6, 7): 0.6992481203007519,\n",
              " (0, 2, 3, 4, 6, 8): 0.7293233082706767,\n",
              " (0, 2, 3, 4, 6, 9): 0.706766917293233,\n",
              " (0, 2, 3, 4, 7, 8): 0.7293233082706767,\n",
              " (0, 2, 3, 4, 7, 9): 0.6842105263157895,\n",
              " (0, 2, 3, 4, 8, 9): 0.7368421052631579,\n",
              " (0, 2, 3, 5, 6, 7): 0.6766917293233082,\n",
              " (0, 2, 3, 5, 6, 8): 0.7293233082706767,\n",
              " (0, 2, 3, 5, 6, 9): 0.6917293233082706,\n",
              " (0, 2, 3, 5, 7, 8): 0.7293233082706767,\n",
              " (0, 2, 3, 5, 7, 9): 0.6842105263157895,\n",
              " (0, 2, 3, 5, 8, 9): 0.7368421052631579,\n",
              " (0, 2, 3, 6, 7, 8): 0.7368421052631579,\n",
              " (0, 2, 3, 6, 7, 9): 0.6992481203007519,\n",
              " (0, 2, 3, 6, 8, 9): 0.7218045112781954,\n",
              " (0, 2, 3, 7, 8, 9): 0.7293233082706767,\n",
              " (0, 2, 4, 5, 6, 7): 0.631578947368421,\n",
              " (0, 2, 4, 5, 6, 8): 0.6691729323308271,\n",
              " (0, 2, 4, 5, 6, 9): 0.6616541353383458,\n",
              " (0, 2, 4, 5, 7, 8): 0.706766917293233,\n",
              " (0, 2, 4, 5, 7, 9): 0.6541353383458647,\n",
              " (0, 2, 4, 5, 8, 9): 0.6992481203007519,\n",
              " (0, 2, 4, 6, 7, 8): 0.6842105263157895,\n",
              " (0, 2, 4, 6, 7, 9): 0.6691729323308271,\n",
              " (0, 2, 4, 6, 8, 9): 0.6842105263157895,\n",
              " (0, 2, 4, 7, 8, 9): 0.6842105263157895,\n",
              " (0, 2, 5, 6, 7, 8): 0.6691729323308271,\n",
              " (0, 2, 5, 6, 7, 9): 0.6766917293233082,\n",
              " (0, 2, 5, 6, 8, 9): 0.6842105263157895,\n",
              " (0, 2, 5, 7, 8, 9): 0.6842105263157895,\n",
              " (0, 2, 6, 7, 8, 9): 0.6917293233082706,\n",
              " (0, 3, 4, 5, 6, 7): 0.6541353383458647,\n",
              " (0, 3, 4, 5, 6, 8): 0.6917293233082706,\n",
              " (0, 3, 4, 5, 6, 9): 0.6541353383458647,\n",
              " (0, 3, 4, 5, 7, 8): 0.6917293233082706,\n",
              " (0, 3, 4, 5, 7, 9): 0.6691729323308271,\n",
              " (0, 3, 4, 5, 8, 9): 0.706766917293233,\n",
              " (0, 3, 4, 6, 7, 8): 0.6992481203007519,\n",
              " (0, 3, 4, 6, 7, 9): 0.6842105263157895,\n",
              " (0, 3, 4, 6, 8, 9): 0.7218045112781954,\n",
              " (0, 3, 4, 7, 8, 9): 0.7142857142857143,\n",
              " (0, 3, 5, 6, 7, 8): 0.706766917293233,\n",
              " (0, 3, 5, 6, 7, 9): 0.6691729323308271,\n",
              " (0, 3, 5, 6, 8, 9): 0.7142857142857143,\n",
              " (0, 3, 5, 7, 8, 9): 0.7218045112781954,\n",
              " (0, 3, 6, 7, 8, 9): 0.7218045112781954,\n",
              " (0, 4, 5, 6, 7, 8): 0.6766917293233082,\n",
              " (0, 4, 5, 6, 7, 9): 0.6390977443609023,\n",
              " (0, 4, 5, 6, 8, 9): 0.6766917293233082,\n",
              " (0, 4, 5, 7, 8, 9): 0.6992481203007519,\n",
              " (0, 4, 6, 7, 8, 9): 0.6992481203007519,\n",
              " (0, 5, 6, 7, 8, 9): 0.6842105263157895,\n",
              " (1, 2, 3, 4, 5, 6): 0.6842105263157895,\n",
              " (1, 2, 3, 4, 5, 7): 0.6691729323308271,\n",
              " (1, 2, 3, 4, 5, 8): 0.706766917293233,\n",
              " (1, 2, 3, 4, 5, 9): 0.6766917293233082,\n",
              " (1, 2, 3, 4, 6, 7): 0.6842105263157895,\n",
              " (1, 2, 3, 4, 6, 8): 0.7142857142857143,\n",
              " (1, 2, 3, 4, 6, 9): 0.6917293233082706,\n",
              " (1, 2, 3, 4, 7, 8): 0.7142857142857143,\n",
              " (1, 2, 3, 4, 7, 9): 0.6842105263157895,\n",
              " (1, 2, 3, 4, 8, 9): 0.7368421052631579,\n",
              " (1, 2, 3, 5, 6, 7): 0.6691729323308271,\n",
              " (1, 2, 3, 5, 6, 8): 0.7218045112781954,\n",
              " (1, 2, 3, 5, 6, 9): 0.6992481203007519,\n",
              " (1, 2, 3, 5, 7, 8): 0.7142857142857143,\n",
              " (1, 2, 3, 5, 7, 9): 0.6917293233082706,\n",
              " (1, 2, 3, 5, 8, 9): 0.7218045112781954,\n",
              " (1, 2, 3, 6, 7, 8): 0.7293233082706767,\n",
              " (1, 2, 3, 6, 7, 9): 0.706766917293233,\n",
              " (1, 2, 3, 6, 8, 9): 0.706766917293233,\n",
              " (1, 2, 3, 7, 8, 9): 0.7142857142857143,\n",
              " (1, 2, 4, 5, 6, 7): 0.6541353383458647,\n",
              " (1, 2, 4, 5, 6, 8): 0.6616541353383458,\n",
              " (1, 2, 4, 5, 6, 9): 0.6466165413533834,\n",
              " (1, 2, 4, 5, 7, 8): 0.6842105263157895,\n",
              " (1, 2, 4, 5, 7, 9): 0.6541353383458647,\n",
              " (1, 2, 4, 5, 8, 9): 0.6766917293233082,\n",
              " (1, 2, 4, 6, 7, 8): 0.7218045112781954,\n",
              " (1, 2, 4, 6, 7, 9): 0.6616541353383458,\n",
              " (1, 2, 4, 6, 8, 9): 0.6917293233082706,\n",
              " (1, 2, 4, 7, 8, 9): 0.6917293233082706,\n",
              " (1, 2, 5, 6, 7, 8): 0.7218045112781954,\n",
              " (1, 2, 5, 6, 7, 9): 0.6616541353383458,\n",
              " (1, 2, 5, 6, 8, 9): 0.6842105263157895,\n",
              " (1, 2, 5, 7, 8, 9): 0.6917293233082706,\n",
              " (1, 2, 6, 7, 8, 9): 0.6917293233082706,\n",
              " (1, 3, 4, 5, 6, 7): 0.631578947368421,\n",
              " (1, 3, 4, 5, 6, 8): 0.6766917293233082,\n",
              " (1, 3, 4, 5, 6, 9): 0.6691729323308271,\n",
              " (1, 3, 4, 5, 7, 8): 0.6766917293233082,\n",
              " (1, 3, 4, 5, 7, 9): 0.6691729323308271,\n",
              " (1, 3, 4, 5, 8, 9): 0.6917293233082706,\n",
              " (1, 3, 4, 6, 7, 8): 0.6842105263157895,\n",
              " (1, 3, 4, 6, 7, 9): 0.6766917293233082,\n",
              " (1, 3, 4, 6, 8, 9): 0.6992481203007519,\n",
              " (1, 3, 4, 7, 8, 9): 0.6917293233082706,\n",
              " (1, 3, 5, 6, 7, 8): 0.6842105263157895,\n",
              " (1, 3, 5, 6, 7, 9): 0.6766917293233082,\n",
              " (1, 3, 5, 6, 8, 9): 0.7218045112781954,\n",
              " (1, 3, 5, 7, 8, 9): 0.6917293233082706,\n",
              " (1, 3, 6, 7, 8, 9): 0.6992481203007519,\n",
              " (1, 4, 5, 6, 7, 8): 0.6390977443609023,\n",
              " (1, 4, 5, 6, 7, 9): 0.6390977443609023,\n",
              " (1, 4, 5, 6, 8, 9): 0.6691729323308271,\n",
              " (1, 4, 5, 7, 8, 9): 0.6842105263157895,\n",
              " (1, 4, 6, 7, 8, 9): 0.6992481203007519,\n",
              " (1, 5, 6, 7, 8, 9): 0.6766917293233082,\n",
              " (2, 3, 4, 5, 6, 7): 0.6842105263157895,\n",
              " (2, 3, 4, 5, 6, 8): 0.7293233082706767,\n",
              " (2, 3, 4, 5, 6, 9): 0.6842105263157895,\n",
              " (2, 3, 4, 5, 7, 8): 0.7142857142857143,\n",
              " (2, 3, 4, 5, 7, 9): 0.6766917293233082,\n",
              " (2, 3, 4, 5, 8, 9): 0.7368421052631579,\n",
              " (2, 3, 4, 6, 7, 8): 0.7293233082706767,\n",
              " (2, 3, 4, 6, 7, 9): 0.7142857142857143,\n",
              " (2, 3, 4, 6, 8, 9): 0.7142857142857143,\n",
              " (2, 3, 4, 7, 8, 9): 0.7218045112781954,\n",
              " (2, 3, 5, 6, 7, 8): 0.7368421052631579,\n",
              " (2, 3, 5, 6, 7, 9): 0.706766917293233,\n",
              " (2, 3, 5, 6, 8, 9): 0.6992481203007519,\n",
              " (2, 3, 5, 7, 8, 9): 0.7142857142857143,\n",
              " (2, 3, 6, 7, 8, 9): 0.7368421052631579,\n",
              " (2, 4, 5, 6, 7, 8): 0.7218045112781954,\n",
              " (2, 4, 5, 6, 7, 9): 0.6616541353383458,\n",
              " (2, 4, 5, 6, 8, 9): 0.6766917293233082,\n",
              " (2, 4, 5, 7, 8, 9): 0.6917293233082706,\n",
              " (2, 4, 6, 7, 8, 9): 0.6917293233082706,\n",
              " (2, 5, 6, 7, 8, 9): 0.6842105263157895,\n",
              " (3, 4, 5, 6, 7, 8): 0.6842105263157895,\n",
              " (3, 4, 5, 6, 7, 9): 0.6691729323308271,\n",
              " (3, 4, 5, 6, 8, 9): 0.706766917293233,\n",
              " (3, 4, 5, 7, 8, 9): 0.6766917293233082,\n",
              " (3, 4, 6, 7, 8, 9): 0.7142857142857143,\n",
              " (3, 5, 6, 7, 8, 9): 0.7142857142857143,\n",
              " (4, 5, 6, 7, 8, 9): 0.6842105263157895,\n",
              " (0, 1, 2, 3, 4, 5, 6): 0.6842105263157895,\n",
              " (0, 1, 2, 3, 4, 5, 7): 0.6691729323308271,\n",
              " (0, 1, 2, 3, 4, 5, 8): 0.7293233082706767,\n",
              " (0, 1, 2, 3, 4, 5, 9): 0.6917293233082706,\n",
              " (0, 1, 2, 3, 4, 6, 7): 0.6766917293233082,\n",
              " (0, 1, 2, 3, 4, 6, 8): 0.7218045112781954,\n",
              " (0, 1, 2, 3, 4, 6, 9): 0.6992481203007519,\n",
              " (0, 1, 2, 3, 4, 7, 8): 0.7218045112781954,\n",
              " (0, 1, 2, 3, 4, 7, 9): 0.6766917293233082,\n",
              " (0, 1, 2, 3, 4, 8, 9): 0.7368421052631579,\n",
              " (0, 1, 2, 3, 5, 6, 7): 0.6691729323308271,\n",
              " (0, 1, 2, 3, 5, 6, 8): 0.7218045112781954,\n",
              " (0, 1, 2, 3, 5, 6, 9): 0.706766917293233,\n",
              " (0, 1, 2, 3, 5, 7, 8): 0.7218045112781954,\n",
              " (0, 1, 2, 3, 5, 7, 9): 0.6766917293233082,\n",
              " (0, 1, 2, 3, 5, 8, 9): 0.7368421052631579,\n",
              " (0, 1, 2, 3, 6, 7, 8): 0.7443609022556391,\n",
              " (0, 1, 2, 3, 6, 7, 9): 0.6842105263157895,\n",
              " (0, 1, 2, 3, 6, 8, 9): 0.7218045112781954,\n",
              " (0, 1, 2, 3, 7, 8, 9): 0.7293233082706767,\n",
              " (0, 1, 2, 4, 5, 6, 7): 0.6390977443609023,\n",
              " (0, 1, 2, 4, 5, 6, 8): 0.6691729323308271,\n",
              " (0, 1, 2, 4, 5, 6, 9): 0.6541353383458647,\n",
              " (0, 1, 2, 4, 5, 7, 8): 0.706766917293233,\n",
              " (0, 1, 2, 4, 5, 7, 9): 0.6541353383458647,\n",
              " (0, 1, 2, 4, 5, 8, 9): 0.6992481203007519,\n",
              " (0, 1, 2, 4, 6, 7, 8): 0.6917293233082706,\n",
              " (0, 1, 2, 4, 6, 7, 9): 0.6691729323308271,\n",
              " (0, 1, 2, 4, 6, 8, 9): 0.6842105263157895,\n",
              " (0, 1, 2, 4, 7, 8, 9): 0.6842105263157895,\n",
              " (0, 1, 2, 5, 6, 7, 8): 0.6766917293233082,\n",
              " (0, 1, 2, 5, 6, 7, 9): 0.6766917293233082,\n",
              " (0, 1, 2, 5, 6, 8, 9): 0.6766917293233082,\n",
              " (0, 1, 2, 5, 7, 8, 9): 0.6842105263157895,\n",
              " (0, 1, 2, 6, 7, 8, 9): 0.6842105263157895,\n",
              " (0, 1, 3, 4, 5, 6, 7): 0.6466165413533834,\n",
              " (0, 1, 3, 4, 5, 6, 8): 0.6842105263157895,\n",
              " (0, 1, 3, 4, 5, 6, 9): 0.6541353383458647,\n",
              " (0, 1, 3, 4, 5, 7, 8): 0.6842105263157895,\n",
              " (0, 1, 3, 4, 5, 7, 9): 0.6691729323308271,\n",
              " (0, 1, 3, 4, 5, 8, 9): 0.6992481203007519,\n",
              " (0, 1, 3, 4, 6, 7, 8): 0.7142857142857143,\n",
              " (0, 1, 3, 4, 6, 7, 9): 0.6917293233082706,\n",
              " (0, 1, 3, 4, 6, 8, 9): 0.7218045112781954,\n",
              " (0, 1, 3, 4, 7, 8, 9): 0.706766917293233,\n",
              " (0, 1, 3, 5, 6, 7, 8): 0.7218045112781954,\n",
              " (0, 1, 3, 5, 6, 7, 9): 0.6917293233082706,\n",
              " (0, 1, 3, 5, 6, 8, 9): 0.7293233082706767,\n",
              " (0, 1, 3, 5, 7, 8, 9): 0.706766917293233,\n",
              " (0, 1, 3, 6, 7, 8, 9): 0.7218045112781954,\n",
              " (0, 1, 4, 5, 6, 7, 8): 0.6917293233082706,\n",
              " (0, 1, 4, 5, 6, 7, 9): 0.6390977443609023,\n",
              " (0, 1, 4, 5, 6, 8, 9): 0.6766917293233082,\n",
              " (0, 1, 4, 5, 7, 8, 9): 0.6992481203007519,\n",
              " (0, 1, 4, 6, 7, 8, 9): 0.6917293233082706,\n",
              " (0, 1, 5, 6, 7, 8, 9): 0.6917293233082706,\n",
              " (0, 2, 3, 4, 5, 6, 7): 0.6842105263157895,\n",
              " (0, 2, 3, 4, 5, 6, 8): 0.7218045112781954,\n",
              " (0, 2, 3, 4, 5, 6, 9): 0.6992481203007519,\n",
              " (0, 2, 3, 4, 5, 7, 8): 0.7293233082706767,\n",
              " (0, 2, 3, 4, 5, 7, 9): 0.6766917293233082,\n",
              " (0, 2, 3, 4, 5, 8, 9): 0.7368421052631579,\n",
              " (0, 2, 3, 4, 6, 7, 8): 0.7293233082706767,\n",
              " (0, 2, 3, 4, 6, 7, 9): 0.706766917293233,\n",
              " (0, 2, 3, 4, 6, 8, 9): 0.7218045112781954,\n",
              " (0, 2, 3, 4, 7, 8, 9): 0.7293233082706767,\n",
              " (0, 2, 3, 5, 6, 7, 8): 0.7368421052631579,\n",
              " (0, 2, 3, 5, 6, 7, 9): 0.706766917293233,\n",
              " (0, 2, 3, 5, 6, 8, 9): 0.7218045112781954,\n",
              " (0, 2, 3, 5, 7, 8, 9): 0.7293233082706767,\n",
              " (0, 2, 3, 6, 7, 8, 9): 0.7368421052631579,\n",
              " (0, 2, 4, 5, 6, 7, 8): 0.6917293233082706,\n",
              " (0, 2, 4, 5, 6, 7, 9): 0.6691729323308271,\n",
              " (0, 2, 4, 5, 6, 8, 9): 0.6992481203007519,\n",
              " (0, 2, 4, 5, 7, 8, 9): 0.6917293233082706,\n",
              " (0, 2, 4, 6, 7, 8, 9): 0.6842105263157895,\n",
              " (0, 2, 5, 6, 7, 8, 9): 0.6766917293233082,\n",
              " (0, 3, 4, 5, 6, 7, 8): 0.6992481203007519,\n",
              " (0, 3, 4, 5, 6, 7, 9): 0.6842105263157895,\n",
              " (0, 3, 4, 5, 6, 8, 9): 0.7218045112781954,\n",
              " (0, 3, 4, 5, 7, 8, 9): 0.706766917293233,\n",
              " (0, 3, 4, 6, 7, 8, 9): 0.7142857142857143,\n",
              " (0, 3, 5, 6, 7, 8, 9): 0.7218045112781954,\n",
              " (0, 4, 5, 6, 7, 8, 9): 0.6917293233082706,\n",
              " (1, 2, 3, 4, 5, 6, 7): 0.6842105263157895,\n",
              " (1, 2, 3, 4, 5, 6, 8): 0.7142857142857143,\n",
              " (1, 2, 3, 4, 5, 6, 9): 0.6917293233082706,\n",
              " (1, 2, 3, 4, 5, 7, 8): 0.7142857142857143,\n",
              " (1, 2, 3, 4, 5, 7, 9): 0.6766917293233082,\n",
              " (1, 2, 3, 4, 5, 8, 9): 0.7293233082706767,\n",
              " (1, 2, 3, 4, 6, 7, 8): 0.7293233082706767,\n",
              " (1, 2, 3, 4, 6, 7, 9): 0.706766917293233,\n",
              " (1, 2, 3, 4, 6, 8, 9): 0.7142857142857143,\n",
              " (1, 2, 3, 4, 7, 8, 9): 0.7218045112781954,\n",
              " (1, 2, 3, 5, 6, 7, 8): 0.7293233082706767,\n",
              " (1, 2, 3, 5, 6, 7, 9): 0.7142857142857143,\n",
              " (1, 2, 3, 5, 6, 8, 9): 0.7142857142857143,\n",
              " (1, 2, 3, 5, 7, 8, 9): 0.7142857142857143,\n",
              " (1, 2, 3, 6, 7, 8, 9): 0.7368421052631579,\n",
              " (1, 2, 4, 5, 6, 7, 8): 0.7218045112781954,\n",
              " (1, 2, 4, 5, 6, 7, 9): 0.6616541353383458,\n",
              " (1, 2, 4, 5, 6, 8, 9): 0.6992481203007519,\n",
              " (1, 2, 4, 5, 7, 8, 9): 0.6917293233082706,\n",
              " (1, 2, 4, 6, 7, 8, 9): 0.6917293233082706,\n",
              " (1, 2, 5, 6, 7, 8, 9): 0.6842105263157895,\n",
              " (1, 3, 4, 5, 6, 7, 8): 0.6842105263157895,\n",
              " (1, 3, 4, 5, 6, 7, 9): 0.6766917293233082,\n",
              " (1, 3, 4, 5, 6, 8, 9): 0.6992481203007519,\n",
              " (1, 3, 4, 5, 7, 8, 9): 0.6842105263157895,\n",
              " (1, 3, 4, 6, 7, 8, 9): 0.6917293233082706,\n",
              " (1, 3, 5, 6, 7, 8, 9): 0.706766917293233,\n",
              " (1, 4, 5, 6, 7, 8, 9): 0.6992481203007519,\n",
              " (2, 3, 4, 5, 6, 7, 8): 0.7293233082706767,\n",
              " (2, 3, 4, 5, 6, 7, 9): 0.706766917293233,\n",
              " (2, 3, 4, 5, 6, 8, 9): 0.7293233082706767,\n",
              " (2, 3, 4, 5, 7, 8, 9): 0.7218045112781954,\n",
              " (2, 3, 4, 6, 7, 8, 9): 0.7368421052631579,\n",
              " (2, 3, 5, 6, 7, 8, 9): 0.7368421052631579,\n",
              " (2, 4, 5, 6, 7, 8, 9): 0.6917293233082706,\n",
              " (3, 4, 5, 6, 7, 8, 9): 0.706766917293233,\n",
              " (0, 1, 2, 3, 4, 5, 6, 7): 0.6842105263157895,\n",
              " (0, 1, 2, 3, 4, 5, 6, 8): 0.7142857142857143,\n",
              " (0, 1, 2, 3, 4, 5, 6, 9): 0.6992481203007519,\n",
              " (0, 1, 2, 3, 4, 5, 7, 8): 0.7218045112781954,\n",
              " (0, 1, 2, 3, 4, 5, 7, 9): 0.6766917293233082,\n",
              " (0, 1, 2, 3, 4, 5, 8, 9): 0.7368421052631579,\n",
              " (0, 1, 2, 3, 4, 6, 7, 8): 0.7293233082706767,\n",
              " (0, 1, 2, 3, 4, 6, 7, 9): 0.6917293233082706,\n",
              " (0, 1, 2, 3, 4, 6, 8, 9): 0.7142857142857143,\n",
              " (0, 1, 2, 3, 4, 7, 8, 9): 0.7218045112781954,\n",
              " (0, 1, 2, 3, 5, 6, 7, 8): 0.7368421052631579,\n",
              " (0, 1, 2, 3, 5, 6, 7, 9): 0.6917293233082706,\n",
              " (0, 1, 2, 3, 5, 6, 8, 9): 0.706766917293233,\n",
              " (0, 1, 2, 3, 5, 7, 8, 9): 0.7293233082706767,\n",
              " (0, 1, 2, 3, 6, 7, 8, 9): 0.7293233082706767,\n",
              " (0, 1, 2, 4, 5, 6, 7, 8): 0.706766917293233,\n",
              " (0, 1, 2, 4, 5, 6, 7, 9): 0.6691729323308271,\n",
              " (0, 1, 2, 4, 5, 6, 8, 9): 0.6842105263157895,\n",
              " (0, 1, 2, 4, 5, 7, 8, 9): 0.6842105263157895,\n",
              " (0, 1, 2, 4, 6, 7, 8, 9): 0.6842105263157895,\n",
              " (0, 1, 2, 5, 6, 7, 8, 9): 0.6842105263157895,\n",
              " (0, 1, 3, 4, 5, 6, 7, 8): 0.706766917293233,\n",
              " (0, 1, 3, 4, 5, 6, 7, 9): 0.6842105263157895,\n",
              " (0, 1, 3, 4, 5, 6, 8, 9): 0.7142857142857143,\n",
              " (0, 1, 3, 4, 5, 7, 8, 9): 0.706766917293233,\n",
              " (0, 1, 3, 4, 6, 7, 8, 9): 0.7293233082706767,\n",
              " (0, 1, 3, 5, 6, 7, 8, 9): 0.7293233082706767,\n",
              " (0, 1, 4, 5, 6, 7, 8, 9): 0.6992481203007519,\n",
              " (0, 2, 3, 4, 5, 6, 7, 8): 0.7293233082706767,\n",
              " (0, 2, 3, 4, 5, 6, 7, 9): 0.7142857142857143,\n",
              " (0, 2, 3, 4, 5, 6, 8, 9): 0.706766917293233,\n",
              " (0, 2, 3, 4, 5, 7, 8, 9): 0.7293233082706767,\n",
              " (0, 2, 3, 4, 6, 7, 8, 9): 0.7368421052631579,\n",
              " ...}"
            ]
          },
          "metadata": {
            "tags": []
          },
          "execution_count": 109
        }
      ]
    },
    {
      "cell_type": "code",
      "metadata": {
        "colab": {
          "base_uri": "https://localhost:8080/"
        },
        "id": "HHS2PXmhdZ3o",
        "outputId": "dc58c5e5-514b-4b54-a4b6-8977b0c19589"
      },
      "source": [
        "max_score = sorted(score_dict.values(), reverse=True)[0]\n",
        "max_score\n",
        "# defalt 값 false"
      ],
      "execution_count": 110,
      "outputs": [
        {
          "output_type": "execute_result",
          "data": {
            "text/plain": [
              "0.7443609022556391"
            ]
          },
          "metadata": {
            "tags": []
          },
          "execution_count": 110
        }
      ]
    },
    {
      "cell_type": "code",
      "metadata": {
        "colab": {
          "base_uri": "https://localhost:8080/",
          "height": 135
        },
        "id": "bQO41dqUdf6y",
        "outputId": "f770aa79-b88e-437a-dce3-d20484cb5cf8"
      },
      "source": [
        "for pair, a_score is score_dict.items():\n",
        "  if ac_score == max_score:\n",
        "    print('Score: ' , max_score, 'Pair: ', pair)\n",
        "  #페어와 스코어 쌍으로 만들어준다 item으로 쓰니까\n",
        "  #enumerate 인덱스와, 값을 튜플로묶어줌\n"
      ],
      "execution_count": 114,
      "outputs": [
        {
          "output_type": "error",
          "ename": "SyntaxError",
          "evalue": "ignored",
          "traceback": [
            "\u001b[0;36m  File \u001b[0;32m\"<ipython-input-114-1228166504bf>\"\u001b[0;36m, line \u001b[0;32m1\u001b[0m\n\u001b[0;31m    for pair, a_score is score_dict.items():\u001b[0m\n\u001b[0m                       ^\u001b[0m\n\u001b[0;31mSyntaxError\u001b[0m\u001b[0;31m:\u001b[0m invalid syntax\n"
          ]
        }
      ]
    },
    {
      "cell_type": "code",
      "metadata": {
        "id": "PxWEMk-GePSr"
      },
      "source": [
        ""
      ],
      "execution_count": null,
      "outputs": []
    }
  ]
}