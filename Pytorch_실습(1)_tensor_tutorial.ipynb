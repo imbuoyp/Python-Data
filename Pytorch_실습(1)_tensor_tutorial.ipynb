{
  "nbformat": 4,
  "nbformat_minor": 0,
  "metadata": {
    "kernelspec": {
      "display_name": "Python 3",
      "language": "python",
      "name": "python3"
    },
    "language_info": {
      "codemirror_mode": {
        "name": "ipython",
        "version": 3
      },
      "file_extension": ".py",
      "mimetype": "text/x-python",
      "name": "python",
      "nbconvert_exporter": "python",
      "pygments_lexer": "ipython3",
      "version": "3.6.6"
    },
    "colab": {
      "name": "Pytorch 실습(1) tensor_tutorial.ipynb",
      "provenance": [],
      "collapsed_sections": [],
      "include_colab_link": true
    },
    "accelerator": "GPU"
  },
  "cells": [
    {
      "cell_type": "markdown",
      "metadata": {
        "id": "view-in-github",
        "colab_type": "text"
      },
      "source": [
        "<a href=\"https://colab.research.google.com/github/imbuoyp/Python-Data/blob/main/Pytorch_%EC%8B%A4%EC%8A%B5(1)_tensor_tutorial.ipynb\" target=\"_parent\"><img src=\"https://colab.research.google.com/assets/colab-badge.svg\" alt=\"Open In Colab\"/></a>"
      ]
    },
    {
      "cell_type": "code",
      "metadata": {
        "id": "82i4sHjFsnbS"
      },
      "source": [
        "%matplotlib inline"
      ],
      "execution_count": null,
      "outputs": []
    },
    {
      "cell_type": "markdown",
      "metadata": {
        "id": "uCg5X3BvsnbW"
      },
      "source": [
        "\n",
        "What is PyTorch?\n",
        "================\n",
        "\n",
        "Python 기반의 과학 연산 패키지로 다음과 같은 두 집단을 대상으로 합니다:\n",
        "\n",
        "-  NumPy를 대체하면서 GPU를 이용한 연산이 필요한 경우\n",
        "-  최대한의 유연성과 속도를 제공하는 딥러닝 연구 플랫폼이 필요한 경우\n",
        "\n",
        "Getting Started\n",
        "---------------\n",
        "\n",
        "Tensor는 NumPy의 ndarray와 유사하며, 추가로 GPU를 사용한 연산 가속도 가능합니다.\n",
        "\n"
      ]
    },
    {
      "cell_type": "code",
      "metadata": {
        "id": "ZZoDnlxosnbX"
      },
      "source": [
        "from __future__ import print_function\n",
        "import torch"
      ],
      "execution_count": 1,
      "outputs": []
    },
    {
      "cell_type": "markdown",
      "metadata": {
        "id": "emUXTaC5snba"
      },
      "source": [
        "초기화되지 않은 5x3 행렬을 생성합니다:\n",
        "\n"
      ]
    },
    {
      "cell_type": "code",
      "metadata": {
        "id": "LsX9dpsnsnba",
        "colab": {
          "base_uri": "https://localhost:8080/"
        },
        "outputId": "e1e3822c-7938-455c-df99-e533fc782be0"
      },
      "source": [
        "x = torch.empty(5, 3)\n",
        "print(x)"
      ],
      "execution_count": 3,
      "outputs": [
        {
          "output_type": "stream",
          "text": [
            "tensor([[4.4247e-36, 0.0000e+00, 5.0447e-44],\n",
            "        [0.0000e+00,        nan, 0.0000e+00],\n",
            "        [1.3788e-14, 1.8369e+28, 1.9433e-19],\n",
            "        [3.3738e-12, 7.4086e+28, 6.9397e+22],\n",
            "        [1.7260e+25, 2.2856e+20, 5.0948e-14]])\n"
          ],
          "name": "stdout"
        }
      ]
    },
    {
      "cell_type": "markdown",
      "metadata": {
        "id": "DuS8_CjRsnbe"
      },
      "source": [
        "무작위로 초기화된 행렬을 생성합니다:\n",
        "\n"
      ]
    },
    {
      "cell_type": "code",
      "metadata": {
        "id": "-gDc29L4snbf",
        "colab": {
          "base_uri": "https://localhost:8080/"
        },
        "outputId": "690bc6e5-d660-4cb4-9e78-1b7d6f0f2686"
      },
      "source": [
        "x = torch.randn(5, 3)\n",
        "print(x)\n",
        "x = torch.rand(5, 3)\n",
        "print(x)"
      ],
      "execution_count": 4,
      "outputs": [
        {
          "output_type": "stream",
          "text": [
            "tensor([[-0.1566, -0.0730,  0.3119],\n",
            "        [-1.3005, -0.5426,  0.2618],\n",
            "        [ 0.6927,  0.1264, -1.6748],\n",
            "        [-0.6294, -0.4030,  0.1020],\n",
            "        [-0.0214, -1.4461, -0.3438]])\n",
            "tensor([[0.1652, 0.0269, 0.0342],\n",
            "        [0.2191, 0.5144, 0.8676],\n",
            "        [0.8620, 0.1251, 0.9995],\n",
            "        [0.0643, 0.4369, 0.6353],\n",
            "        [0.6726, 0.3111, 0.4163]])\n"
          ],
          "name": "stdout"
        }
      ]
    },
    {
      "cell_type": "markdown",
      "metadata": {
        "id": "EnDW3xa2snbh"
      },
      "source": [
        "dtype이 long이고 0으로 채워진 행렬을 생성합니다:\n",
        "\n"
      ]
    },
    {
      "cell_type": "code",
      "metadata": {
        "id": "ooNlMfAIsnbi",
        "colab": {
          "base_uri": "https://localhost:8080/"
        },
        "outputId": "afbc0ddd-f2d2-41d5-e157-6356518a61f9"
      },
      "source": [
        "x = torch.zeros(5, 3, dtype=torch.long)\n",
        "print(x)"
      ],
      "execution_count": 5,
      "outputs": [
        {
          "output_type": "stream",
          "text": [
            "tensor([[0, 0, 0],\n",
            "        [0, 0, 0],\n",
            "        [0, 0, 0],\n",
            "        [0, 0, 0],\n",
            "        [0, 0, 0]])\n"
          ],
          "name": "stdout"
        }
      ]
    },
    {
      "cell_type": "markdown",
      "metadata": {
        "id": "yrjRCiCZsnbk"
      },
      "source": [
        "데이터로부터 tensor를 직접 생성합니다:\n",
        "\n"
      ]
    },
    {
      "cell_type": "code",
      "metadata": {
        "id": "nc0Xx93Nsnbk",
        "colab": {
          "base_uri": "https://localhost:8080/"
        },
        "outputId": "d3bcb4ca-959c-403a-fe0f-3f8e549e8970"
      },
      "source": [
        "x = torch.tensor([5.5, 3])\n",
        "print(x)"
      ],
      "execution_count": 6,
      "outputs": [
        {
          "output_type": "stream",
          "text": [
            "tensor([5.5000, 3.0000])\n"
          ],
          "name": "stdout"
        }
      ]
    },
    {
      "cell_type": "markdown",
      "metadata": {
        "id": "dXeA4TPFsnbn"
      },
      "source": [
        "또는 존재하는 tensor를 바탕으로 tensor를 만듭니다. 이 메소드(method)들은 사용자로부터 제공된 새로운 값이 없는 한, 입력 tensor의 속성들(예. dtype)을 재사용합니다.\n"
      ]
    },
    {
      "cell_type": "code",
      "metadata": {
        "id": "BpiM1li7snbn",
        "colab": {
          "base_uri": "https://localhost:8080/"
        },
        "outputId": "80372ddc-095f-49c3-bbb7-dc36a07b1d83"
      },
      "source": [
        "x = x.new_ones(5, 3, dtype=torch.double)      # new_* methods take in sizes\n",
        "print(x)\n",
        "\n",
        "x = torch.randn_like(x, dtype=torch.float)    # override dtype!\n",
        "print(x)                                      # result has the same size"
      ],
      "execution_count": null,
      "outputs": [
        {
          "output_type": "stream",
          "text": [
            "tensor([[1., 1., 1.],\n",
            "        [1., 1., 1.],\n",
            "        [1., 1., 1.],\n",
            "        [1., 1., 1.],\n",
            "        [1., 1., 1.]], dtype=torch.float64)\n",
            "tensor([[ 0.0695, -0.3980,  0.9388],\n",
            "        [ 0.2012, -0.4168,  0.2019],\n",
            "        [ 0.0352,  0.7859,  0.1839],\n",
            "        [-0.4859, -0.1883,  0.2783],\n",
            "        [ 0.4508,  1.5532,  2.5128]])\n"
          ],
          "name": "stdout"
        }
      ]
    },
    {
      "cell_type": "markdown",
      "metadata": {
        "id": "F6kOn4Oosnbq"
      },
      "source": [
        "행렬의 크기를 구합니다:\n",
        "\n"
      ]
    },
    {
      "cell_type": "code",
      "metadata": {
        "id": "1bXCTCXpsnbq",
        "colab": {
          "base_uri": "https://localhost:8080/"
        },
        "outputId": "4363c2a5-f4bf-46b2-f9fb-9587e0649b60"
      },
      "source": [
        "print(x.size())\n",
        "print(x.shape)"
      ],
      "execution_count": 7,
      "outputs": [
        {
          "output_type": "stream",
          "text": [
            "torch.Size([2])\n",
            "torch.Size([2])\n"
          ],
          "name": "stdout"
        }
      ]
    },
    {
      "cell_type": "markdown",
      "metadata": {
        "id": "Jq9jZCRKsnbu"
      },
      "source": [
        "\n",
        "덧셈: 문법1"
      ]
    },
    {
      "cell_type": "code",
      "metadata": {
        "id": "uCWXyD2Hsnbu",
        "colab": {
          "base_uri": "https://localhost:8080/",
          "height": 330
        },
        "outputId": "be8d4ac3-5f86-46e2-e4ee-c77ec9027490"
      },
      "source": [
        "y = torch.rand(5, 3)\n",
        "print(x)\n",
        "print(y)\n",
        "print(x + y)"
      ],
      "execution_count": 9,
      "outputs": [
        {
          "output_type": "stream",
          "text": [
            "tensor([5.5000, 3.0000])\n",
            "tensor([[0.1893, 0.3083, 0.2088],\n",
            "        [0.7658, 0.0457, 0.1160],\n",
            "        [0.5955, 0.6502, 0.1668],\n",
            "        [0.2866, 0.6216, 0.7221],\n",
            "        [0.7172, 0.6203, 0.5612]])\n"
          ],
          "name": "stdout"
        },
        {
          "output_type": "error",
          "ename": "RuntimeError",
          "evalue": "ignored",
          "traceback": [
            "\u001b[0;31m---------------------------------------------------------------------------\u001b[0m",
            "\u001b[0;31mRuntimeError\u001b[0m                              Traceback (most recent call last)",
            "\u001b[0;32m<ipython-input-9-f0df9fdf620b>\u001b[0m in \u001b[0;36m<module>\u001b[0;34m()\u001b[0m\n\u001b[1;32m      2\u001b[0m \u001b[0mprint\u001b[0m\u001b[0;34m(\u001b[0m\u001b[0mx\u001b[0m\u001b[0;34m)\u001b[0m\u001b[0;34m\u001b[0m\u001b[0;34m\u001b[0m\u001b[0m\n\u001b[1;32m      3\u001b[0m \u001b[0mprint\u001b[0m\u001b[0;34m(\u001b[0m\u001b[0my\u001b[0m\u001b[0;34m)\u001b[0m\u001b[0;34m\u001b[0m\u001b[0;34m\u001b[0m\u001b[0m\n\u001b[0;32m----> 4\u001b[0;31m \u001b[0mprint\u001b[0m\u001b[0;34m(\u001b[0m\u001b[0mx\u001b[0m \u001b[0;34m+\u001b[0m \u001b[0my\u001b[0m\u001b[0;34m)\u001b[0m\u001b[0;34m\u001b[0m\u001b[0;34m\u001b[0m\u001b[0m\n\u001b[0m",
            "\u001b[0;31mRuntimeError\u001b[0m: The size of tensor a (2) must match the size of tensor b (3) at non-singleton dimension 1"
          ]
        }
      ]
    },
    {
      "cell_type": "markdown",
      "metadata": {
        "id": "DFu4Lo3csnbx"
      },
      "source": [
        "덧셈: 문법2\n",
        "\n"
      ]
    },
    {
      "cell_type": "code",
      "metadata": {
        "id": "DzKHzVOBsnbx",
        "colab": {
          "base_uri": "https://localhost:8080/"
        },
        "outputId": "47d793dc-c708-4a4b-87ad-faed397b30fe"
      },
      "source": [
        "print(torch.add(x, y))"
      ],
      "execution_count": null,
      "outputs": [
        {
          "output_type": "stream",
          "text": [
            "tensor([[ 0.2187,  0.1099,  1.7767],\n",
            "        [ 1.1667, -0.3841,  1.0742],\n",
            "        [ 0.3515,  1.2320,  0.5419],\n",
            "        [-0.2865,  0.1081,  0.8990],\n",
            "        [ 1.3133,  2.3246,  2.8989]])\n"
          ],
          "name": "stdout"
        }
      ]
    },
    {
      "cell_type": "markdown",
      "metadata": {
        "id": "Ovk3r-8Psnbz"
      },
      "source": [
        "덧셈: 결과 tensor를 인자로 제공\n"
      ]
    },
    {
      "cell_type": "code",
      "metadata": {
        "id": "ZOB9erkpsnbz",
        "colab": {
          "base_uri": "https://localhost:8080/"
        },
        "outputId": "03eae3c3-58f9-4ce0-cfc0-3cce57035d27"
      },
      "source": [
        "result = torch.empty(5, 3)\n",
        "print(result)\n",
        "torch.add(x, y, out=result)\n",
        "print(result)"
      ],
      "execution_count": null,
      "outputs": [
        {
          "output_type": "stream",
          "text": [
            "tensor([[ 0.2187,  0.1099,  1.7767],\n",
            "        [ 1.1667, -0.3841,  1.0742],\n",
            "        [ 0.3515,  1.2320,  0.5419],\n",
            "        [-0.2865,  0.1081,  0.8990],\n",
            "        [ 1.3133,  2.3246,  2.8989]])\n"
          ],
          "name": "stdout"
        }
      ]
    },
    {
      "cell_type": "markdown",
      "metadata": {
        "id": "HN2T-jLrsnb1"
      },
      "source": [
        "덧셈: 바꿔치기(In-place) 방식\n"
      ]
    },
    {
      "cell_type": "code",
      "metadata": {
        "id": "Lf3t8CEHsnb2",
        "colab": {
          "base_uri": "https://localhost:8080/"
        },
        "outputId": "63281a7e-22c8-476b-bab7-1e9cc8828aa4"
      },
      "source": [
        "# adds x to y\n",
        "#설명한 거 추가한부분 print(y)\n",
        "y.add_(x)\n",
        "print(y)"
      ],
      "execution_count": null,
      "outputs": [
        {
          "output_type": "stream",
          "text": [
            "tensor([[ 0.2187,  0.1099,  1.7767],\n",
            "        [ 1.1667, -0.3841,  1.0742],\n",
            "        [ 0.3515,  1.2320,  0.5419],\n",
            "        [-0.2865,  0.1081,  0.8990],\n",
            "        [ 1.3133,  2.3246,  2.8989]])\n"
          ],
          "name": "stdout"
        }
      ]
    },
    {
      "cell_type": "markdown",
      "metadata": {
        "id": "Otzt2-mMsnb4"
      },
      "source": [
        "<div class=\"alert alert-info\"><h4>Note</h4><p>바꿔치기(In-place) 방식으로 tensor의 값을 변경하는 연산은 _ 를 접미사로 갖습니다.<p>\n",
        "예: x.copy_(y), x.t_() 는 x 를 변경합니다.\n",
        "\n",
        "<p>\n",
        "NumPy스러운 인덱싱 표기 방법을 사용할 수도 있습니다!\n"
      ]
    },
    {
      "cell_type": "code",
      "metadata": {
        "id": "kKg180otsnb4",
        "colab": {
          "base_uri": "https://localhost:8080/"
        },
        "outputId": "c2fbf32e-2329-4a16-bccc-5608c2858232"
      },
      "source": [
        "print(x[:, 1])"
      ],
      "execution_count": null,
      "outputs": [
        {
          "output_type": "stream",
          "text": [
            "tensor([-0.3980, -0.4168,  0.7859, -0.1883,  1.5532])\n"
          ],
          "name": "stdout"
        }
      ]
    },
    {
      "cell_type": "markdown",
      "metadata": {
        "id": "FDLx9bI3snb7"
      },
      "source": [
        "크기 변경: tensor의 크기(size)나 모양(shape)을 변경하고 싶다면 torch.view 를 사용합니다:\n"
      ]
    },
    {
      "cell_type": "code",
      "metadata": {
        "id": "DBjVLCv5snb7",
        "colab": {
          "base_uri": "https://localhost:8080/"
        },
        "outputId": "b8154cb3-8c3c-4c0a-e596-445ce23de21b"
      },
      "source": [
        "import torch\n",
        "\n",
        "x = torch.randn(4, 4)\n",
        "#수업하면서 타이핑 print(x.shape)\n",
        "y = x.view(16)\n",
        "z = x.view(-1, 4)  # the size -1 is inferred from other dimensions\n",
        "print(x.size(), y.size(), z.size())"
      ],
      "execution_count": null,
      "outputs": [
        {
          "output_type": "stream",
          "text": [
            "torch.Size([4, 4]) torch.Size([16]) torch.Size([4, 4])\n"
          ],
          "name": "stdout"
        }
      ]
    },
    {
      "cell_type": "markdown",
      "metadata": {
        "id": "dDDWiXtXsnb9"
      },
      "source": [
        "만약 tensor에 하나의 값만 존재한다면, .item() 을 사용하면 숫자 값을 얻을 수 있습니다.\n",
        "\n"
      ]
    },
    {
      "cell_type": "code",
      "metadata": {
        "id": "WIhw3GDfsnb-",
        "colab": {
          "base_uri": "https://localhost:8080/"
        },
        "outputId": "b754219e-c80d-44c4-84e0-b2ace7b62b50"
      },
      "source": [
        "x = torch.randn(1)\n",
        "print(x)\n",
        "print(x.item())"
      ],
      "execution_count": null,
      "outputs": [
        {
          "output_type": "stream",
          "text": [
            "tensor([-0.2037])\n",
            "-0.20373372733592987\n"
          ],
          "name": "stdout"
        }
      ]
    },
    {
      "cell_type": "markdown",
      "metadata": {
        "id": "_qy7VEshsncB"
      },
      "source": [
        "**읽을 거리:**\n",
        "\n",
        "\n",
        "  전치(transposing), 인덱싱(indexing), 슬라이싱(slicing), 수학 계산, 선형 대수, 난수(random number) 등과 같은 100가지 이상의 Tensor 연산은\n",
        "  `여기 <http://pytorch.org/docs/torch>` 에 설명되어 있습니다.\n",
        "\n",
        "NumPy 변환(Bridge)\n",
        "------------\n",
        "\n",
        "Torch Tensor를 NumPy 배열(array)로 변환하거나, 그 반대로 하는 것은 매우 쉽습니다.\n",
        "\n",
        "(CPU 상의) Torch Tensor와 NumPy 배열은 저장 공간을 공유하기 때문에, 하나를 변경하면 다른 하나도 변경됩니다.\n",
        "\n",
        "- Torch Tensor를 NumPy 배열로 변환하기\n",
        "\n"
      ]
    },
    {
      "cell_type": "code",
      "metadata": {
        "id": "rPKFva3ssncB",
        "colab": {
          "base_uri": "https://localhost:8080/"
        },
        "outputId": "3421f954-f8aa-4735-ac9a-6e7a7ad161bb"
      },
      "source": [
        "a = torch.ones(5)\n",
        "print(a)"
      ],
      "execution_count": null,
      "outputs": [
        {
          "output_type": "stream",
          "text": [
            "tensor([1., 1., 1., 1., 1.])\n"
          ],
          "name": "stdout"
        }
      ]
    },
    {
      "cell_type": "code",
      "metadata": {
        "id": "ZCPCzALIsncD",
        "colab": {
          "base_uri": "https://localhost:8080/"
        },
        "outputId": "40abf793-0a40-4cb8-a55b-8bed2c3fe9c1"
      },
      "source": [
        "b = a.numpy()\n",
        "print(b)"
      ],
      "execution_count": null,
      "outputs": [
        {
          "output_type": "stream",
          "text": [
            "[1. 1. 1. 1. 1.]\n"
          ],
          "name": "stdout"
        }
      ]
    },
    {
      "cell_type": "markdown",
      "metadata": {
        "id": "j-8hzE25sncF"
      },
      "source": [
        "NumPy 배열의 값이 어떻게 변하는지 확인해보세요.\n",
        "\n"
      ]
    },
    {
      "cell_type": "code",
      "metadata": {
        "id": "Wsznw1eqsncF",
        "colab": {
          "base_uri": "https://localhost:8080/"
        },
        "outputId": "a0739497-90b3-4662-d05a-b38af4fbf60c"
      },
      "source": [
        "a.add_(1)\n",
        "print(a)\n",
        "print(b)"
      ],
      "execution_count": null,
      "outputs": [
        {
          "output_type": "stream",
          "text": [
            "tensor([2., 2., 2., 2., 2.])\n",
            "[2. 2. 2. 2. 2.]\n"
          ],
          "name": "stdout"
        }
      ]
    },
    {
      "cell_type": "markdown",
      "metadata": {
        "id": "pe446bKMsncH"
      },
      "source": [
        " - NumPy 배열을 Torch Tensor로 변환하기  \n",
        " \n",
        "NumPy(np) 배열을 변경하면 Torch Tensor의 값도 자동 변경되는 것을 확인해보세요.\n",
        "\n"
      ]
    },
    {
      "cell_type": "code",
      "metadata": {
        "id": "1T3FiWWusncI",
        "colab": {
          "base_uri": "https://localhost:8080/"
        },
        "outputId": "eb3dae6d-7bfe-44e7-81f4-7b0cf479c8ed"
      },
      "source": [
        "import numpy as np\n",
        "a = np.ones(5)\n",
        "print(a)\n",
        "b = torch.from_numpy(a)\n",
        "np.add(a, 1, out=a)\n",
        "print(a)\n",
        "print(b)"
      ],
      "execution_count": null,
      "outputs": [
        {
          "output_type": "stream",
          "text": [
            "[1. 1. 1. 1. 1.]\n",
            "[2. 2. 2. 2. 2.]\n",
            "tensor([2., 2., 2., 2., 2.], dtype=torch.float64)\n"
          ],
          "name": "stdout"
        }
      ]
    },
    {
      "cell_type": "markdown",
      "metadata": {
        "id": "dc7afeqWsncJ"
      },
      "source": [
        "CharTensor를 제외한 CPU 상의 모든 Tensor는 NumPy로의 변환을 지원하며, (NumPy에서 Tensor로의) 반대 변환도 지원합니다.\n",
        "\n",
        "CUDA Tensors\n",
        "------------\n",
        "\n",
        ".to 메소드를 사용하여 Tensor를 어떠한 장치로도 옮길 수 있습니다.\n",
        "\n"
      ]
    },
    {
      "cell_type": "code",
      "metadata": {
        "id": "9CcL3nDUsncK",
        "colab": {
          "base_uri": "https://localhost:8080/"
        },
        "outputId": "fe8515cb-6b32-4f1d-8ac8-55bf45d3eff4"
      },
      "source": [
        "# 이 코드는 CUDA가 사용 가능한 환경에서만 실행합니다.\n",
        "# ``torch.device`` 를 사용하여 tensor를 GPU 안팎으로 이동해보겠습니다.\n",
        "if torch.cuda.is_available():\n",
        "    device = torch.device(\"cuda\")          # CUDA 장치 객체(device object)로\n",
        "    y = torch.ones_like(x, device=device)  # GPU 상에 직접적으로 tensor를 생성하거나\n",
        "    x = x.to(device)                       # ``.to(\"cuda\")`` 를 사용하면 됩니다.\n",
        "    z = x + y\n",
        "    print(z)\n",
        "    print(z.to(\"cpu\", torch.double))       # ``.to`` 는 dtype도 함께 변경합니다!"
      ],
      "execution_count": null,
      "outputs": [
        {
          "output_type": "stream",
          "text": [
            "tensor([0.7963], device='cuda:0')\n",
            "tensor([0.7963], dtype=torch.float64)\n"
          ],
          "name": "stdout"
        }
      ]
    },
    {
      "cell_type": "code",
      "metadata": {
        "id": "eRUcwWN4yHzu"
      },
      "source": [
        ""
      ],
      "execution_count": null,
      "outputs": []
    }
  ]
}